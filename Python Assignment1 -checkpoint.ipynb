{
 "cells": [
  {
   "cell_type": "markdown",
   "id": "c827c096",
   "metadata": {},
   "source": [
    "## Github Excercise:\n"
   ]
  },
  {
   "cell_type": "markdown",
   "id": "9396d405",
   "metadata": {},
   "source": []
  },
  {
   "cell_type": "markdown",
   "id": "6420d318",
   "metadata": {},
   "source": [
    "## 1.Write a program to get the datatype of a data:"
   ]
  },
  {
   "cell_type": "code",
   "execution_count": 1,
   "id": "45486eaa",
   "metadata": {},
   "outputs": [
    {
     "data": {
      "text/plain": [
       "int"
      ]
     },
     "execution_count": 1,
     "metadata": {},
     "output_type": "execute_result"
    }
   ],
   "source": [
    "#example:\n",
    "#we have 1.numeric datatype,int();float();complex();2.string()datatype;3.boolean()datatype:\n",
    "x=20\n",
    "type(x)"
   ]
  },
  {
   "cell_type": "code",
   "execution_count": 2,
   "id": "b57f8fc1",
   "metadata": {},
   "outputs": [
    {
     "data": {
      "text/plain": [
       "float"
      ]
     },
     "execution_count": 2,
     "metadata": {},
     "output_type": "execute_result"
    }
   ],
   "source": [
    "# float():\n",
    "y=3.3\n",
    "type(y)"
   ]
  },
  {
   "cell_type": "code",
   "execution_count": 3,
   "id": "d9aaf753",
   "metadata": {},
   "outputs": [
    {
     "data": {
      "text/plain": [
       "complex"
      ]
     },
     "execution_count": 3,
     "metadata": {},
     "output_type": "execute_result"
    }
   ],
   "source": [
    "#complex():\n",
    "y=1+7j\n",
    "type(y)"
   ]
  },
  {
   "cell_type": "code",
   "execution_count": 4,
   "id": "31979f23",
   "metadata": {},
   "outputs": [
    {
     "data": {
      "text/plain": [
       "str"
      ]
     },
     "execution_count": 4,
     "metadata": {},
     "output_type": "execute_result"
    }
   ],
   "source": [
    "#srting():\n",
    "z=\"abcd\"\n",
    "type(z)"
   ]
  },
  {
   "cell_type": "code",
   "execution_count": 5,
   "id": "b9457fc8",
   "metadata": {},
   "outputs": [
    {
     "data": {
      "text/plain": [
       "bool"
      ]
     },
     "execution_count": 5,
     "metadata": {},
     "output_type": "execute_result"
    }
   ],
   "source": [
    "#boolean():\n",
    "x=False\n",
    "type(x)"
   ]
  },
  {
   "cell_type": "markdown",
   "id": "05001300",
   "metadata": {},
   "source": [
    "## 2.Write a program to convert integer datatype to float datatype;"
   ]
  },
  {
   "cell_type": "code",
   "execution_count": 6,
   "id": "a407c1e2",
   "metadata": {},
   "outputs": [
    {
     "data": {
      "text/plain": [
       "2.1"
      ]
     },
     "execution_count": 6,
     "metadata": {},
     "output_type": "execute_result"
    }
   ],
   "source": [
    "# we have implict and explict datatype conversions to change one datatype to another datatype:\n",
    "x1=1\n",
    "x2=1.1\n",
    "x1+x2"
   ]
  },
  {
   "cell_type": "code",
   "execution_count": 7,
   "id": "36b020ef",
   "metadata": {},
   "outputs": [
    {
     "data": {
      "text/plain": [
       "(8+6j)"
      ]
     },
     "execution_count": 7,
     "metadata": {},
     "output_type": "execute_result"
    }
   ],
   "source": [
    "# another example:\n",
    "y1=1+6j\n",
    "y2=7\n",
    "y1+y2\n",
    "#here the datatype given first priority to complex:"
   ]
  },
  {
   "cell_type": "markdown",
   "id": "532da115",
   "metadata": {},
   "source": [
    "## 3.write a program to convert a integer datatype to float datatype viceversa:"
   ]
  },
  {
   "cell_type": "code",
   "execution_count": 8,
   "id": "a48ed117",
   "metadata": {},
   "outputs": [
    {
     "name": "stdout",
     "output_type": "stream",
     "text": [
      "12.0\n",
      "<class 'float'>\n"
     ]
    }
   ],
   "source": [
    "# integer variable:\n",
    "num=12\n",
    "#convert integer to float:\n",
    "num=float(num)\n",
    "#display the number and its type:\n",
    "print(num)\n",
    "print(type(num))"
   ]
  },
  {
   "cell_type": "markdown",
   "id": "338e6aff",
   "metadata": {},
   "source": [
    "## 4.Write a program to get actual location of the data:"
   ]
  },
  {
   "cell_type": "code",
   "execution_count": 9,
   "id": "36afbc6b",
   "metadata": {},
   "outputs": [
    {
     "data": {
      "text/plain": [
       "'asdfghjkl'"
      ]
     },
     "execution_count": 9,
     "metadata": {},
     "output_type": "execute_result"
    }
   ],
   "source": [
    "variable='asdfghjkl'\n",
    "variable"
   ]
  },
  {
   "cell_type": "markdown",
   "id": "a3528f7b",
   "metadata": {},
   "source": [
    "## 5.Give an example of implict conversion and explict conversion:"
   ]
  },
  {
   "cell_type": "code",
   "execution_count": 10,
   "id": "7a57658f",
   "metadata": {},
   "outputs": [
    {
     "name": "stdout",
     "output_type": "stream",
     "text": [
      "datatype of num_int: <class 'int'>\n",
      "datatype of num_float: <class 'float'>\n",
      "value of num_new: <class 'float'>\n"
     ]
    }
   ],
   "source": [
    "# example1:converting integer to float;(implict conversion):\n",
    "\n",
    "num_int = 123\n",
    "num_float = 1.23\n",
    "\n",
    "num_new = num_int+num_float\n",
    "\n",
    "\n",
    "print(\"datatype of num_int:\",type(num_int))\n",
    "print(\"datatype of num_float:\",type(num_float))\n",
    "\n",
    "print(\"value of num_new:\",type(num_new))\n"
   ]
  },
  {
   "cell_type": "code",
   "execution_count": 13,
   "id": "489f6fec",
   "metadata": {},
   "outputs": [
    {
     "name": "stdout",
     "output_type": "stream",
     "text": [
      "datatype of num_int: <class 'int'>\n",
      "datatype of num_str: <class 'str'>\n"
     ]
    },
    {
     "ename": "TypeError",
     "evalue": "unsupported operand type(s) for +: 'int' and 'str'",
     "output_type": "error",
     "traceback": [
      "\u001b[1;31m---------------------------------------------------------------------------\u001b[0m",
      "\u001b[1;31mTypeError\u001b[0m                                 Traceback (most recent call last)",
      "\u001b[1;32mC:\\Users\\NAGALA~1\\AppData\\Local\\Temp/ipykernel_4472/1335277993.py\u001b[0m in \u001b[0;36m<module>\u001b[1;34m\u001b[0m\n\u001b[0;32m      7\u001b[0m \u001b[0mprint\u001b[0m\u001b[1;33m(\u001b[0m\u001b[1;34m\"datatype of num_str:\"\u001b[0m\u001b[1;33m,\u001b[0m\u001b[0mtype\u001b[0m\u001b[1;33m(\u001b[0m\u001b[0mnum_str\u001b[0m\u001b[1;33m)\u001b[0m\u001b[1;33m)\u001b[0m\u001b[1;33m\u001b[0m\u001b[1;33m\u001b[0m\u001b[0m\n\u001b[0;32m      8\u001b[0m \u001b[1;33m\u001b[0m\u001b[0m\n\u001b[1;32m----> 9\u001b[1;33m \u001b[0mprint\u001b[0m\u001b[1;33m(\u001b[0m\u001b[0mnum_int\u001b[0m\u001b[1;33m+\u001b[0m\u001b[0mnum_str\u001b[0m\u001b[1;33m)\u001b[0m\u001b[1;33m\u001b[0m\u001b[1;33m\u001b[0m\u001b[0m\n\u001b[0m",
      "\u001b[1;31mTypeError\u001b[0m: unsupported operand type(s) for +: 'int' and 'str'"
     ]
    }
   ],
   "source": [
    "#example2:addition of string(higher)dattype and integer(lower)datatype:\n",
    "\n",
    "num_int = 123\n",
    "num_str = \"456\"\n",
    "\n",
    "print(\"datatype of num_int:\",type(num_int))\n",
    "print(\"datatype of num_str:\",type(num_str))\n",
    "\n",
    "print(num_int+num_str)"
   ]
  },
  {
   "cell_type": "code",
   "execution_count": 12,
   "id": "b1b20302",
   "metadata": {},
   "outputs": [
    {
     "name": "stdout",
     "output_type": "stream",
     "text": [
      "datatype of num_int: <class 'int'>\n",
      "datatype of num_str before typecasting: <class 'str'>\n",
      "datatype of num_str before typecasting: <class 'int'>\n",
      "sum of num_int and num_str : <class 'int'>\n",
      "datatype of the sum: <class 'int'>\n"
     ]
    }
   ],
   "source": [
    "#example3:explict conversion:\n",
    "# addition of string and integer using explict conversion:\n",
    "\n",
    "num_int = 123\n",
    "num_str = \"456\"\n",
    "\n",
    "print(\"datatype of num_int:\",type(num_int))\n",
    "print(\"datatype of num_str before typecasting:\",type(num_str))\n",
    "\n",
    "num_str = int(num_str)\n",
    "print(\"datatype of num_str before typecasting:\",type(num_str))\n",
    "\n",
    "num_sum=num_int+num_str\n",
    "\n",
    "print(\"sum of num_int and num_str :\",type(num_sum))\n",
    "print(\"datatype of the sum:\",type(num_sum))"
   ]
  },
  {
   "cell_type": "markdown",
   "id": "1581b955",
   "metadata": {},
   "source": [
    "## 6.Write a program to prove that python is case sensitive language:"
   ]
  },
  {
   "cell_type": "code",
   "execution_count": 14,
   "id": "299d9296",
   "metadata": {},
   "outputs": [
    {
     "ename": "NameError",
     "evalue": "name 'First_Name' is not defined",
     "output_type": "error",
     "traceback": [
      "\u001b[1;31m---------------------------------------------------------------------------\u001b[0m",
      "\u001b[1;31mNameError\u001b[0m                                 Traceback (most recent call last)",
      "\u001b[1;32mC:\\Users\\NAGALA~1\\AppData\\Local\\Temp/ipykernel_4472/1067121000.py\u001b[0m in \u001b[0;36m<module>\u001b[1;34m\u001b[0m\n\u001b[0;32m      4\u001b[0m \u001b[0mlast_name\u001b[0m \u001b[1;33m=\u001b[0m \u001b[1;34m'Statler'\u001b[0m\u001b[1;33m\u001b[0m\u001b[1;33m\u001b[0m\u001b[0m\n\u001b[0;32m      5\u001b[0m \u001b[1;33m\u001b[0m\u001b[0m\n\u001b[1;32m----> 6\u001b[1;33m print(\"My name is \" +First_Name\n\u001b[0m\u001b[0;32m      7\u001b[0m      +'' +LAST_Name)\n",
      "\u001b[1;31mNameError\u001b[0m: name 'First_Name' is not defined"
     ]
    }
   ],
   "source": [
    "# example of incorrect use of case_sensitivity in python:\n",
    "\n",
    "first_name = 'Tim'\n",
    "last_name = 'Statler'\n",
    "\n",
    "print(\"My name is \" +First_Name\n",
    "     +'' +LAST_Name)"
   ]
  },
  {
   "cell_type": "code",
   "execution_count": 15,
   "id": "cccb2b6a",
   "metadata": {},
   "outputs": [
    {
     "name": "stdout",
     "output_type": "stream",
     "text": [
      "My name is Tim Statler\n"
     ]
    }
   ],
   "source": [
    "# correct use of case sensitivity in python:\n",
    "\n",
    "first_name = \"Tim\"\n",
    "last_name = \"Statler\"\n",
    "\n",
    "print(\"My name is \" + first_name + ' ' + last_name)"
   ]
  },
  {
   "cell_type": "code",
   "execution_count": 17,
   "id": "7b2f3dc0",
   "metadata": {},
   "outputs": [
    {
     "name": "stdout",
     "output_type": "stream",
     "text": [
      "True\n"
     ]
    }
   ],
   "source": [
    "# we can ignore case sesitive in case of string variable ,here we can use two functions:\n",
    "#1.lower()-convert all letters into lowercase:\n",
    "#2.upper()-convert all letters into uppercase:\n",
    "#example:\n",
    "string1 = 'HELLO WORLD'\n",
    "string2 = 'hello world'\n",
    "\n",
    "comparision = string1.lower() ==string2\n",
    "print(comparision)"
   ]
  },
  {
   "cell_type": "markdown",
   "id": "acfcf63a",
   "metadata": {},
   "source": [
    "## 7.write a program to get a syntax error:"
   ]
  },
  {
   "cell_type": "code",
   "execution_count": 19,
   "id": "99567107",
   "metadata": {},
   "outputs": [
    {
     "ename": "SyntaxError",
     "evalue": "invalid syntax (Temp/ipykernel_4472/2409029119.py, line 3)",
     "output_type": "error",
     "traceback": [
      "\u001b[1;36m  File \u001b[1;32m\"C:\\Users\\NAGALA~1\\AppData\\Local\\Temp/ipykernel_4472/2409029119.py\"\u001b[1;36m, line \u001b[1;32m3\u001b[0m\n\u001b[1;33m    var_var+\u001b[0m\n\u001b[1;37m            ^\u001b[0m\n\u001b[1;31mSyntaxError\u001b[0m\u001b[1;31m:\u001b[0m invalid syntax\n"
     ]
    }
   ],
   "source": [
    "var=2\n",
    "var=3\n",
    "var_var+"
   ]
  },
  {
   "cell_type": "markdown",
   "id": "3c970484",
   "metadata": {},
   "source": [
    "## 8.write a program to get a type error:"
   ]
  },
  {
   "cell_type": "code",
   "execution_count": 25,
   "id": "b5a7660e",
   "metadata": {},
   "outputs": [
    {
     "ename": "TypeError",
     "evalue": "unsupported operand type(s) for +: 'float' and 'str'",
     "output_type": "error",
     "traceback": [
      "\u001b[1;31m---------------------------------------------------------------------------\u001b[0m",
      "\u001b[1;31mTypeError\u001b[0m                                 Traceback (most recent call last)",
      "\u001b[1;32mC:\\Users\\NAGALA~1\\AppData\\Local\\Temp/ipykernel_4472/458478512.py\u001b[0m in \u001b[0;36m<module>\u001b[1;34m\u001b[0m\n\u001b[0;32m      1\u001b[0m \u001b[0mstring\u001b[0m\u001b[1;33m=\u001b[0m\u001b[1;36m2\u001b[0m\u001b[1;33m\u001b[0m\u001b[1;33m\u001b[0m\u001b[0m\n\u001b[0;32m      2\u001b[0m \u001b[0mstring\u001b[0m\u001b[1;33m=\u001b[0m\u001b[1;36m2.2\u001b[0m\u001b[1;33m\u001b[0m\u001b[1;33m\u001b[0m\u001b[0m\n\u001b[1;32m----> 3\u001b[1;33m \u001b[0mstring\u001b[0m\u001b[1;33m+\u001b[0m\u001b[0mstring2\u001b[0m\u001b[1;33m\u001b[0m\u001b[1;33m\u001b[0m\u001b[0m\n\u001b[0m",
      "\u001b[1;31mTypeError\u001b[0m: unsupported operand type(s) for +: 'float' and 'str'"
     ]
    }
   ],
   "source": [
    "string=2\n",
    "string=2.2\n",
    "string+string2"
   ]
  },
  {
   "cell_type": "markdown",
   "id": "f7bf4db1",
   "metadata": {},
   "source": [
    "## 9.Give an example of multiple statement in a single line:"
   ]
  },
  {
   "cell_type": "code",
   "execution_count": 27,
   "id": "99d209f6",
   "metadata": {},
   "outputs": [],
   "source": [
    "siri=\"hello; i am; learning ;datascience;\""
   ]
  },
  {
   "cell_type": "code",
   "execution_count": null,
   "id": "e7045c15",
   "metadata": {},
   "outputs": [],
   "source": []
  }
 ],
 "metadata": {
  "kernelspec": {
   "display_name": "Python 3 (ipykernel)",
   "language": "python",
   "name": "python3"
  },
  "language_info": {
   "codemirror_mode": {
    "name": "ipython",
    "version": 3
   },
   "file_extension": ".py",
   "mimetype": "text/x-python",
   "name": "python",
   "nbconvert_exporter": "python",
   "pygments_lexer": "ipython3",
   "version": "3.9.7"
  }
 },
 "nbformat": 4,
 "nbformat_minor": 5
}
