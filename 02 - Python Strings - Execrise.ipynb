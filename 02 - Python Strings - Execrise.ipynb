{
 "cells": [
  {
   "cell_type": "markdown",
   "metadata": {},
   "source": [
    "# Assignment Instructions\n",
    "\n",
    "`Hello Innominion,`\n",
    "\n",
    "- **Try to attempt all the questions in every possible way.**\n",
    "- **Some other topics are required to solve some questions. don't panic.**\n",
    "- **Those questions can be answered after the topics are taught.**\n",
    "\n",
    "\n",
    "- `Join Mentoring Session for the Support/Doubts Resolving with Our Technical Mentors (2.00 PM - 6.00 PM  Mon-Sat)` \n",
    "\n",
    "Happy Learning !!!"
   ]
  },
  {
   "cell_type": "code",
   "execution_count": null,
   "metadata": {},
   "outputs": [],
   "source": []
  },
  {
   "cell_type": "markdown",
   "metadata": {},
   "source": [
    "# Strings - Execrise"
   ]
  },
  {
   "cell_type": "code",
   "execution_count": 105,
   "metadata": {},
   "outputs": [
    {
     "data": {
      "text/plain": [
       "'The University of Hawaii began using radio to send digital information as early as 1971,using ALOHAnet. \\nFriedhelm Hillebrand conceptualised SMS in 1984 while working for Deutsche Telekom. Sitting at a typewriter at home, \\nHillebrand typed out random sentences and counted every letter, number, punctuation, and space. \\nAlmost every time, the messages contained fewer than 160 characters, thus giving the basis for the \\nlimit one could type via text messaging. With Bernard Ghillebaert of France Télécom, he developed \\na proposal for the GSM (Groupe Spécial Mobile) meeting in February 1985 in Oslo. \\nThe first technical solution evolved in a GSM subgroup under the leadership of Finn Trosby. \\nIt was further developed under the leadership of Kevin Holley and Ian Harris (see Short Message Service). \\nSMS forms an integral part of SS7 (Signalling System No. 7). Under SS7, it is a \"state\" with a 160 character data, \\ncoded in the ITU-T \"T.56\" text format, that has a \"sequence lead in\" to determine different language codes, \\nand may have special character codes that permits, for example, sending simple graphs as text. \\nThis was part of ISDN (Integrated Services Digital Network) and since GSM is based on this, \\nmade its way to the mobile phone. Messages could be sent and received on ISDN phones, \\nand these can send SMS to any GSM phone. The possibility of doing something is one thing, \\nimplementing it another, but systems existed from 1988 that sent SMS messages to mobile phones (compare ND-NOTIS).'"
      ]
     },
     "execution_count": 105,
     "metadata": {},
     "output_type": "execute_result"
    }
   ],
   "source": [
    "text = \"\"\"The University of Hawaii began using radio to send digital information as early as 1971,using ALOHAnet. \n",
    "Friedhelm Hillebrand conceptualised SMS in 1984 while working for Deutsche Telekom. Sitting at a typewriter at home, \n",
    "Hillebrand typed out random sentences and counted every letter, number, punctuation, and space. \n",
    "Almost every time, the messages contained fewer than 160 characters, thus giving the basis for the \n",
    "limit one could type via text messaging. With Bernard Ghillebaert of France Télécom, he developed \n",
    "a proposal for the GSM (Groupe Spécial Mobile) meeting in February 1985 in Oslo. \n",
    "The first technical solution evolved in a GSM subgroup under the leadership of Finn Trosby. \n",
    "It was further developed under the leadership of Kevin Holley and Ian Harris (see Short Message Service). \n",
    "SMS forms an integral part of SS7 (Signalling System No. 7). Under SS7, it is a \"state\" with a 160 character data, \n",
    "coded in the ITU-T \"T.56\" text format, that has a \"sequence lead in\" to determine different language codes, \n",
    "and may have special character codes that permits, for example, sending simple graphs as text. \n",
    "This was part of ISDN (Integrated Services Digital Network) and since GSM is based on this, \n",
    "made its way to the mobile phone. Messages could be sent and received on ISDN phones, \n",
    "and these can send SMS to any GSM phone. The possibility of doing something is one thing, \n",
    "implementing it another, but systems existed from 1988 that sent SMS messages to mobile phones (compare ND-NOTIS).\"\"\"\n",
    "text"
   ]
  },
  {
   "cell_type": "markdown",
   "metadata": {},
   "source": [
    ">  `Question:` How many characters in text"
   ]
  },
  {
   "cell_type": "code",
   "execution_count": 7,
   "metadata": {},
   "outputs": [
    {
     "data": {
      "text/plain": [
       "1507"
      ]
     },
     "execution_count": 7,
     "metadata": {},
     "output_type": "execute_result"
    }
   ],
   "source": [
    "len(text)"
   ]
  },
  {
   "cell_type": "markdown",
   "metadata": {},
   "source": [
    ">  `Question:` How many words are there in the \"text\""
   ]
  },
  {
   "cell_type": "code",
   "execution_count": 8,
   "metadata": {},
   "outputs": [
    {
     "data": {
      "text/plain": [
       "['The',\n",
       " 'University',\n",
       " 'of',\n",
       " 'Hawaii',\n",
       " 'began',\n",
       " 'using',\n",
       " 'radio',\n",
       " 'to',\n",
       " 'send',\n",
       " 'digital',\n",
       " 'information',\n",
       " 'as',\n",
       " 'early',\n",
       " 'as',\n",
       " '1971,using',\n",
       " 'ALOHAnet.',\n",
       " 'Friedhelm',\n",
       " 'Hillebrand',\n",
       " 'conceptualised',\n",
       " 'SMS',\n",
       " 'in',\n",
       " '1984',\n",
       " 'while',\n",
       " 'working',\n",
       " 'for',\n",
       " 'Deutsche',\n",
       " 'Telekom.',\n",
       " 'Sitting',\n",
       " 'at',\n",
       " 'a',\n",
       " 'typewriter',\n",
       " 'at',\n",
       " 'home,',\n",
       " 'Hillebrand',\n",
       " 'typed',\n",
       " 'out',\n",
       " 'random',\n",
       " 'sentences',\n",
       " 'and',\n",
       " 'counted',\n",
       " 'every',\n",
       " 'letter,',\n",
       " 'number,',\n",
       " 'punctuation,',\n",
       " 'and',\n",
       " 'space.',\n",
       " 'Almost',\n",
       " 'every',\n",
       " 'time,',\n",
       " 'the',\n",
       " 'messages',\n",
       " 'contained',\n",
       " 'fewer',\n",
       " 'than',\n",
       " '160',\n",
       " 'characters,',\n",
       " 'thus',\n",
       " 'giving',\n",
       " 'the',\n",
       " 'basis',\n",
       " 'for',\n",
       " 'the',\n",
       " 'limit',\n",
       " 'one',\n",
       " 'could',\n",
       " 'type',\n",
       " 'via',\n",
       " 'text',\n",
       " 'messaging.',\n",
       " 'With',\n",
       " 'Bernard',\n",
       " 'Ghillebaert',\n",
       " 'of',\n",
       " 'France',\n",
       " 'Télécom,',\n",
       " 'he',\n",
       " 'developed',\n",
       " 'a',\n",
       " 'proposal',\n",
       " 'for',\n",
       " 'the',\n",
       " 'GSM',\n",
       " '(Groupe',\n",
       " 'Spécial',\n",
       " 'Mobile)',\n",
       " 'meeting',\n",
       " 'in',\n",
       " 'February',\n",
       " '1985',\n",
       " 'in',\n",
       " 'Oslo.',\n",
       " 'The',\n",
       " 'first',\n",
       " 'technical',\n",
       " 'solution',\n",
       " 'evolved',\n",
       " 'in',\n",
       " 'a',\n",
       " 'GSM',\n",
       " 'subgroup',\n",
       " 'under',\n",
       " 'the',\n",
       " 'leadership',\n",
       " 'of',\n",
       " 'Finn',\n",
       " 'Trosby.',\n",
       " 'It',\n",
       " 'was',\n",
       " 'further',\n",
       " 'developed',\n",
       " 'under',\n",
       " 'the',\n",
       " 'leadership',\n",
       " 'of',\n",
       " 'Kevin',\n",
       " 'Holley',\n",
       " 'and',\n",
       " 'Ian',\n",
       " 'Harris',\n",
       " '(see',\n",
       " 'Short',\n",
       " 'Message',\n",
       " 'Service).',\n",
       " 'SMS',\n",
       " 'forms',\n",
       " 'an',\n",
       " 'integral',\n",
       " 'part',\n",
       " 'of',\n",
       " 'SS7',\n",
       " '(Signalling',\n",
       " 'System',\n",
       " 'No.',\n",
       " '7).',\n",
       " 'Under',\n",
       " 'SS7,',\n",
       " 'it',\n",
       " 'is',\n",
       " 'a',\n",
       " '\"state\"',\n",
       " 'with',\n",
       " 'a',\n",
       " '160',\n",
       " 'character',\n",
       " 'data,',\n",
       " 'coded',\n",
       " 'in',\n",
       " 'the',\n",
       " 'ITU-T',\n",
       " '\"T.56\"',\n",
       " 'text',\n",
       " 'format,',\n",
       " 'that',\n",
       " 'has',\n",
       " 'a',\n",
       " '\"sequence',\n",
       " 'lead',\n",
       " 'in\"',\n",
       " 'to',\n",
       " 'determine',\n",
       " 'different',\n",
       " 'language',\n",
       " 'codes,',\n",
       " 'and',\n",
       " 'may',\n",
       " 'have',\n",
       " 'special',\n",
       " 'character',\n",
       " 'codes',\n",
       " 'that',\n",
       " 'permits,',\n",
       " 'for',\n",
       " 'example,',\n",
       " 'sending',\n",
       " 'simple',\n",
       " 'graphs',\n",
       " 'as',\n",
       " 'text.',\n",
       " 'This',\n",
       " 'was',\n",
       " 'part',\n",
       " 'of',\n",
       " 'ISDN',\n",
       " '(Integrated',\n",
       " 'Services',\n",
       " 'Digital',\n",
       " 'Network)',\n",
       " 'and',\n",
       " 'since',\n",
       " 'GSM',\n",
       " 'is',\n",
       " 'based',\n",
       " 'on',\n",
       " 'this,',\n",
       " 'made',\n",
       " 'its',\n",
       " 'way',\n",
       " 'to',\n",
       " 'the',\n",
       " 'mobile',\n",
       " 'phone.',\n",
       " 'Messages',\n",
       " 'could',\n",
       " 'be',\n",
       " 'sent',\n",
       " 'and',\n",
       " 'received',\n",
       " 'on',\n",
       " 'ISDN',\n",
       " 'phones,',\n",
       " 'and',\n",
       " 'these',\n",
       " 'can',\n",
       " 'send',\n",
       " 'SMS',\n",
       " 'to',\n",
       " 'any',\n",
       " 'GSM',\n",
       " 'phone.',\n",
       " 'The',\n",
       " 'possibility',\n",
       " 'of',\n",
       " 'doing',\n",
       " 'something',\n",
       " 'is',\n",
       " 'one',\n",
       " 'thing,',\n",
       " 'implementing',\n",
       " 'it',\n",
       " 'another,',\n",
       " 'but',\n",
       " 'systems',\n",
       " 'existed',\n",
       " 'from',\n",
       " '1988',\n",
       " 'that',\n",
       " 'sent',\n",
       " 'SMS',\n",
       " 'messages',\n",
       " 'to',\n",
       " 'mobile',\n",
       " 'phones',\n",
       " '(compare',\n",
       " 'ND-NOTIS).']"
      ]
     },
     "execution_count": 8,
     "metadata": {},
     "output_type": "execute_result"
    }
   ],
   "source": [
    "text.split()"
   ]
  },
  {
   "cell_type": "code",
   "execution_count": 83,
   "metadata": {},
   "outputs": [],
   "source": [
    "z=text.split()"
   ]
  },
  {
   "cell_type": "code",
   "execution_count": 10,
   "metadata": {},
   "outputs": [
    {
     "data": {
      "text/plain": [
       "244"
      ]
     },
     "execution_count": 10,
     "metadata": {},
     "output_type": "execute_result"
    }
   ],
   "source": [
    "len(z)"
   ]
  },
  {
   "cell_type": "markdown",
   "metadata": {},
   "source": [
    ">  `Question:` How many unique words in the \"text\""
   ]
  },
  {
   "cell_type": "code",
   "execution_count": 11,
   "metadata": {},
   "outputs": [],
   "source": [
    "k=set(z)"
   ]
  },
  {
   "cell_type": "code",
   "execution_count": 12,
   "metadata": {},
   "outputs": [
    {
     "data": {
      "text/plain": [
       "174"
      ]
     },
     "execution_count": 12,
     "metadata": {},
     "output_type": "execute_result"
    }
   ],
   "source": [
    "len(k)"
   ]
  },
  {
   "cell_type": "markdown",
   "metadata": {},
   "source": [
    ">  `Question:` Find Lexical diversity\n",
    "\n",
    "lexical_diversity = (number of words)/(number of unique words)"
   ]
  },
  {
   "cell_type": "code",
   "execution_count": 13,
   "metadata": {},
   "outputs": [
    {
     "data": {
      "text/plain": [
       "1.4022988505747127"
      ]
     },
     "execution_count": 13,
     "metadata": {},
     "output_type": "execute_result"
    }
   ],
   "source": [
    "244/174"
   ]
  },
  {
   "cell_type": "markdown",
   "metadata": {},
   "source": [
    ">  `Question:` Count how many \"the\" in text"
   ]
  },
  {
   "cell_type": "code",
   "execution_count": 111,
   "metadata": {},
   "outputs": [
    {
     "name": "stdout",
     "output_type": "stream",
     "text": [
      "14\n"
     ]
    }
   ],
   "source": [
    "d=text.count(\"The\")+text.count(\"the\")\n",
    "print(d)"
   ]
  },
  {
   "cell_type": "markdown",
   "metadata": {},
   "source": [
    ">  `Question:` Count how many \"a\" in text"
   ]
  },
  {
   "cell_type": "code",
   "execution_count": 113,
   "metadata": {},
   "outputs": [
    {
     "name": "stdout",
     "output_type": "stream",
     "text": [
      "92\n"
     ]
    }
   ],
   "source": [
    "c=text.count(\"A\")+text.count(\"a\")\n",
    "print(c)"
   ]
  },
  {
   "cell_type": "markdown",
   "metadata": {},
   "source": [
    ">  `Question:` Extract First 10 words in text"
   ]
  },
  {
   "cell_type": "code",
   "execution_count": 115,
   "metadata": {},
   "outputs": [
    {
     "data": {
      "text/plain": [
       "'The University of Hawaii began using radio to send digital'"
      ]
     },
     "execution_count": 115,
     "metadata": {},
     "output_type": "execute_result"
    }
   ],
   "source": [
    "text[0:58]"
   ]
  },
  {
   "cell_type": "code",
   "execution_count": 17,
   "metadata": {},
   "outputs": [
    {
     "name": "stdout",
     "output_type": "stream",
     "text": [
      "The University of Hawaii began using radio to send digital \n"
     ]
    }
   ],
   "source": [
    "print(text[0:58])"
   ]
  },
  {
   "cell_type": "markdown",
   "metadata": {},
   "source": [
    ">  `Question:` Append \" Innomatics Reseach Labs\" after first 10 words in the text"
   ]
  },
  {
   "cell_type": "code",
   "execution_count": 18,
   "metadata": {},
   "outputs": [
    {
     "data": {
      "text/plain": [
       "'The University of Hawaii began using radio to send digital  Innomatics Reseach Labs'"
      ]
     },
     "execution_count": 18,
     "metadata": {},
     "output_type": "execute_result"
    }
   ],
   "source": [
    "text[0:59]+(\" Innomatics Reseach Labs\")"
   ]
  },
  {
   "cell_type": "code",
   "execution_count": 116,
   "metadata": {},
   "outputs": [
    {
     "data": {
      "text/plain": [
       "'The University '"
      ]
     },
     "execution_count": 116,
     "metadata": {},
     "output_type": "execute_result"
    }
   ],
   "source": [
    "text[0:15]"
   ]
  },
  {
   "cell_type": "markdown",
   "metadata": {},
   "source": [
    ">  `Question:` Extract First Fourteen (14) character in text"
   ]
  },
  {
   "cell_type": "code",
   "execution_count": 117,
   "metadata": {},
   "outputs": [
    {
     "data": {
      "text/plain": [
       "'The University '"
      ]
     },
     "execution_count": 117,
     "metadata": {},
     "output_type": "execute_result"
    }
   ],
   "source": [
    "text[0:15]"
   ]
  },
  {
   "cell_type": "code",
   "execution_count": 118,
   "metadata": {},
   "outputs": [
    {
     "data": {
      "text/plain": [
       "'The University '"
      ]
     },
     "execution_count": 118,
     "metadata": {},
     "output_type": "execute_result"
    }
   ],
   "source": [
    "text[0:15]"
   ]
  },
  {
   "cell_type": "markdown",
   "metadata": {},
   "source": [
    ">  `Question:` Extract first Fourteen (14) words in text"
   ]
  },
  {
   "cell_type": "code",
   "execution_count": 119,
   "metadata": {},
   "outputs": [
    {
     "data": {
      "text/plain": [
       "'The University of Hawaii began using radio to send digital information as early as'"
      ]
     },
     "execution_count": 119,
     "metadata": {},
     "output_type": "execute_result"
    }
   ],
   "source": [
    "text[0:82]"
   ]
  },
  {
   "cell_type": "code",
   "execution_count": 120,
   "metadata": {},
   "outputs": [
    {
     "data": {
      "text/plain": [
       "'The University of Hawaii began using radio to send digital information as early as'"
      ]
     },
     "execution_count": 120,
     "metadata": {},
     "output_type": "execute_result"
    }
   ],
   "source": [
    "text[0:82]"
   ]
  },
  {
   "cell_type": "code",
   "execution_count": null,
   "metadata": {},
   "outputs": [],
   "source": []
  },
  {
   "cell_type": "code",
   "execution_count": 22,
   "metadata": {},
   "outputs": [],
   "source": [
    "z = text.split()"
   ]
  },
  {
   "cell_type": "code",
   "execution_count": 23,
   "metadata": {},
   "outputs": [
    {
     "data": {
      "text/plain": [
       "['The',\n",
       " 'University',\n",
       " 'of',\n",
       " 'Hawaii',\n",
       " 'began',\n",
       " 'using',\n",
       " 'radio',\n",
       " 'to',\n",
       " 'send',\n",
       " 'digital',\n",
       " 'information',\n",
       " 'as',\n",
       " 'early',\n",
       " 'as',\n",
       " '1971,using',\n",
       " 'ALOHAnet.',\n",
       " 'Friedhelm',\n",
       " 'Hillebrand',\n",
       " 'conceptualised',\n",
       " 'SMS',\n",
       " 'in',\n",
       " '1984',\n",
       " 'while',\n",
       " 'working',\n",
       " 'for',\n",
       " 'Deutsche',\n",
       " 'Telekom.',\n",
       " 'Sitting',\n",
       " 'at',\n",
       " 'a',\n",
       " 'typewriter',\n",
       " 'at',\n",
       " 'home,',\n",
       " 'Hillebrand',\n",
       " 'typed',\n",
       " 'out',\n",
       " 'random',\n",
       " 'sentences',\n",
       " 'and',\n",
       " 'counted',\n",
       " 'every',\n",
       " 'letter,',\n",
       " 'number,',\n",
       " 'punctuation,',\n",
       " 'and',\n",
       " 'space.',\n",
       " 'Almost',\n",
       " 'every',\n",
       " 'time,',\n",
       " 'the',\n",
       " 'messages',\n",
       " 'contained',\n",
       " 'fewer',\n",
       " 'than',\n",
       " '160',\n",
       " 'characters,',\n",
       " 'thus',\n",
       " 'giving',\n",
       " 'the',\n",
       " 'basis',\n",
       " 'for',\n",
       " 'the',\n",
       " 'limit',\n",
       " 'one',\n",
       " 'could',\n",
       " 'type',\n",
       " 'via',\n",
       " 'text',\n",
       " 'messaging.',\n",
       " 'With',\n",
       " 'Bernard',\n",
       " 'Ghillebaert',\n",
       " 'of',\n",
       " 'France',\n",
       " 'Télécom,',\n",
       " 'he',\n",
       " 'developed',\n",
       " 'a',\n",
       " 'proposal',\n",
       " 'for',\n",
       " 'the',\n",
       " 'GSM',\n",
       " '(Groupe',\n",
       " 'Spécial',\n",
       " 'Mobile)',\n",
       " 'meeting',\n",
       " 'in',\n",
       " 'February',\n",
       " '1985',\n",
       " 'in',\n",
       " 'Oslo.',\n",
       " 'The',\n",
       " 'first',\n",
       " 'technical',\n",
       " 'solution',\n",
       " 'evolved',\n",
       " 'in',\n",
       " 'a',\n",
       " 'GSM',\n",
       " 'subgroup',\n",
       " 'under',\n",
       " 'the',\n",
       " 'leadership',\n",
       " 'of',\n",
       " 'Finn',\n",
       " 'Trosby.',\n",
       " 'It',\n",
       " 'was',\n",
       " 'further',\n",
       " 'developed',\n",
       " 'under',\n",
       " 'the',\n",
       " 'leadership',\n",
       " 'of',\n",
       " 'Kevin',\n",
       " 'Holley',\n",
       " 'and',\n",
       " 'Ian',\n",
       " 'Harris',\n",
       " '(see',\n",
       " 'Short',\n",
       " 'Message',\n",
       " 'Service).',\n",
       " 'SMS',\n",
       " 'forms',\n",
       " 'an',\n",
       " 'integral',\n",
       " 'part',\n",
       " 'of',\n",
       " 'SS7',\n",
       " '(Signalling',\n",
       " 'System',\n",
       " 'No.',\n",
       " '7).',\n",
       " 'Under',\n",
       " 'SS7,',\n",
       " 'it',\n",
       " 'is',\n",
       " 'a',\n",
       " '\"state\"',\n",
       " 'with',\n",
       " 'a',\n",
       " '160',\n",
       " 'character',\n",
       " 'data,',\n",
       " 'coded',\n",
       " 'in',\n",
       " 'the',\n",
       " 'ITU-T',\n",
       " '\"T.56\"',\n",
       " 'text',\n",
       " 'format,',\n",
       " 'that',\n",
       " 'has',\n",
       " 'a',\n",
       " '\"sequence',\n",
       " 'lead',\n",
       " 'in\"',\n",
       " 'to',\n",
       " 'determine',\n",
       " 'different',\n",
       " 'language',\n",
       " 'codes,',\n",
       " 'and',\n",
       " 'may',\n",
       " 'have',\n",
       " 'special',\n",
       " 'character',\n",
       " 'codes',\n",
       " 'that',\n",
       " 'permits,',\n",
       " 'for',\n",
       " 'example,',\n",
       " 'sending',\n",
       " 'simple',\n",
       " 'graphs',\n",
       " 'as',\n",
       " 'text.',\n",
       " 'This',\n",
       " 'was',\n",
       " 'part',\n",
       " 'of',\n",
       " 'ISDN',\n",
       " '(Integrated',\n",
       " 'Services',\n",
       " 'Digital',\n",
       " 'Network)',\n",
       " 'and',\n",
       " 'since',\n",
       " 'GSM',\n",
       " 'is',\n",
       " 'based',\n",
       " 'on',\n",
       " 'this,',\n",
       " 'made',\n",
       " 'its',\n",
       " 'way',\n",
       " 'to',\n",
       " 'the',\n",
       " 'mobile',\n",
       " 'phone.',\n",
       " 'Messages',\n",
       " 'could',\n",
       " 'be',\n",
       " 'sent',\n",
       " 'and',\n",
       " 'received',\n",
       " 'on',\n",
       " 'ISDN',\n",
       " 'phones,',\n",
       " 'and',\n",
       " 'these',\n",
       " 'can',\n",
       " 'send',\n",
       " 'SMS',\n",
       " 'to',\n",
       " 'any',\n",
       " 'GSM',\n",
       " 'phone.',\n",
       " 'The',\n",
       " 'possibility',\n",
       " 'of',\n",
       " 'doing',\n",
       " 'something',\n",
       " 'is',\n",
       " 'one',\n",
       " 'thing,',\n",
       " 'implementing',\n",
       " 'it',\n",
       " 'another,',\n",
       " 'but',\n",
       " 'systems',\n",
       " 'existed',\n",
       " 'from',\n",
       " '1988',\n",
       " 'that',\n",
       " 'sent',\n",
       " 'SMS',\n",
       " 'messages',\n",
       " 'to',\n",
       " 'mobile',\n",
       " 'phones',\n",
       " '(compare',\n",
       " 'ND-NOTIS).']"
      ]
     },
     "execution_count": 23,
     "metadata": {},
     "output_type": "execute_result"
    }
   ],
   "source": [
    "z"
   ]
  },
  {
   "cell_type": "code",
   "execution_count": 24,
   "metadata": {},
   "outputs": [
    {
     "data": {
      "text/plain": [
       "['The',\n",
       " 'University',\n",
       " 'of',\n",
       " 'Hawaii',\n",
       " 'began',\n",
       " 'using',\n",
       " 'radio',\n",
       " 'to',\n",
       " 'send',\n",
       " 'digital',\n",
       " 'information',\n",
       " 'as',\n",
       " 'early',\n",
       " 'as',\n",
       " '1971,using']"
      ]
     },
     "execution_count": 24,
     "metadata": {},
     "output_type": "execute_result"
    }
   ],
   "source": [
    "z[0:15]"
   ]
  },
  {
   "cell_type": "markdown",
   "metadata": {},
   "source": [
    ">  `Question:` Extract First 10 words in text\n",
    "- Convert every letter into ***upper*** case\n",
    "- Convert every letter into ***lower*** case"
   ]
  },
  {
   "cell_type": "code",
   "execution_count": 121,
   "metadata": {},
   "outputs": [
    {
     "data": {
      "text/plain": [
       "'THE UNIVERSITY OF HAWAII BEGAN USING RADIO TO SEND DIGITAL'"
      ]
     },
     "execution_count": 121,
     "metadata": {},
     "output_type": "execute_result"
    }
   ],
   "source": [
    "text[0:58].upper()"
   ]
  },
  {
   "cell_type": "code",
   "execution_count": 123,
   "metadata": {},
   "outputs": [
    {
     "data": {
      "text/plain": [
       "'the university of hawaii began using radio to send digital'"
      ]
     },
     "execution_count": 123,
     "metadata": {},
     "output_type": "execute_result"
    }
   ],
   "source": [
    "text[0:58].lower()"
   ]
  },
  {
   "cell_type": "code",
   "execution_count": null,
   "metadata": {},
   "outputs": [],
   "source": []
  },
  {
   "cell_type": "code",
   "execution_count": 25,
   "metadata": {},
   "outputs": [],
   "source": [
    "# CODE HERE"
   ]
  },
  {
   "cell_type": "code",
   "execution_count": 26,
   "metadata": {},
   "outputs": [
    {
     "data": {
      "text/plain": [
       "'THE UNIVERSITY OF HAWAII BEGAN USING RADIO TO SEND DIGITAL'"
      ]
     },
     "execution_count": 26,
     "metadata": {},
     "output_type": "execute_result"
    }
   ],
   "source": [
    "u=\" \".join(z[0:10])\n",
    "u.upper()"
   ]
  },
  {
   "cell_type": "code",
   "execution_count": 27,
   "metadata": {},
   "outputs": [],
   "source": [
    "# CODE HERE"
   ]
  },
  {
   "cell_type": "code",
   "execution_count": 28,
   "metadata": {},
   "outputs": [
    {
     "data": {
      "text/plain": [
       "'the university of hawaii began using radio to send digital'"
      ]
     },
     "execution_count": 28,
     "metadata": {},
     "output_type": "execute_result"
    }
   ],
   "source": [
    "u=\" \".join(z[0:10])\n",
    "u.lower()"
   ]
  },
  {
   "cell_type": "markdown",
   "metadata": {},
   "source": [
    ">  `Question:`  Find the list of letter starting with \n",
    "- u\n",
    "- o\n",
    "> `hint - You need to use for loop for this`"
   ]
  },
  {
   "cell_type": "code",
   "execution_count": 84,
   "metadata": {},
   "outputs": [],
   "source": [
    "# CODE HERE\n",
    "a=[]\n",
    "for i in z:\n",
    "    if i.lower().startswith('u'):\n",
    "        a.append(i)"
   ]
  },
  {
   "cell_type": "code",
   "execution_count": 85,
   "metadata": {},
   "outputs": [
    {
     "data": {
      "text/plain": [
       "['University', 'using', 'under', 'under', 'Under']"
      ]
     },
     "execution_count": 85,
     "metadata": {},
     "output_type": "execute_result"
    }
   ],
   "source": [
    "a"
   ]
  },
  {
   "cell_type": "code",
   "execution_count": 75,
   "metadata": {},
   "outputs": [
    {
     "data": {
      "text/plain": [
       "['University', 'using', 'under', 'under', 'Under']"
      ]
     },
     "execution_count": 75,
     "metadata": {},
     "output_type": "execute_result"
    }
   ],
   "source": [
    "a"
   ]
  },
  {
   "cell_type": "code",
   "execution_count": 76,
   "metadata": {},
   "outputs": [],
   "source": [
    "a=[]\n",
    "for i in z:\n",
    "    if i.lower().startswith('o'):\n",
    "        a.append(i)"
   ]
  },
  {
   "cell_type": "code",
   "execution_count": 77,
   "metadata": {},
   "outputs": [
    {
     "data": {
      "text/plain": [
       "['of',\n",
       " 'out',\n",
       " 'one',\n",
       " 'of',\n",
       " 'Oslo.',\n",
       " 'of',\n",
       " 'of',\n",
       " 'of',\n",
       " 'of',\n",
       " 'on',\n",
       " 'on',\n",
       " 'of',\n",
       " 'one']"
      ]
     },
     "execution_count": 77,
     "metadata": {},
     "output_type": "execute_result"
    }
   ],
   "source": [
    "a"
   ]
  },
  {
   "cell_type": "code",
   "execution_count": 80,
   "metadata": {},
   "outputs": [
    {
     "data": {
      "text/plain": [
       "'of out one of Oslo. of of of of on on of one'"
      ]
     },
     "execution_count": 80,
     "metadata": {},
     "output_type": "execute_result"
    }
   ],
   "source": [
    "\" \".join(a)"
   ]
  },
  {
   "cell_type": "markdown",
   "metadata": {},
   "source": [
    ">  `Question:` Find the list of letter ending with \n",
    "- e\n",
    "- n\n",
    "> `hint - You need to use for loop for this`"
   ]
  },
  {
   "cell_type": "code",
   "execution_count": 86,
   "metadata": {},
   "outputs": [
    {
     "data": {
      "text/plain": [
       "['The',\n",
       " 'while',\n",
       " 'Deutsche',\n",
       " 'the',\n",
       " 'the',\n",
       " 'the',\n",
       " 'one',\n",
       " 'type',\n",
       " 'France',\n",
       " 'he',\n",
       " 'the',\n",
       " '(Groupe',\n",
       " 'The',\n",
       " 'the',\n",
       " 'the',\n",
       " '(see',\n",
       " 'Message',\n",
       " 'the',\n",
       " '\"sequence',\n",
       " 'determine',\n",
       " 'language',\n",
       " 'have',\n",
       " 'simple',\n",
       " 'since',\n",
       " 'made',\n",
       " 'the',\n",
       " 'mobile',\n",
       " 'be',\n",
       " 'these',\n",
       " 'The',\n",
       " 'one',\n",
       " 'mobile',\n",
       " '(compare']"
      ]
     },
     "execution_count": 86,
     "metadata": {},
     "output_type": "execute_result"
    }
   ],
   "source": [
    "# CODE HERE\n",
    "#x=input(\"List of words ends with e is :\")\n",
    "a=[]\n",
    "for i in z:\n",
    "    if i.lower().endswith('e'):\n",
    "        a.append(i)\n",
    "a"
   ]
  },
  {
   "cell_type": "code",
   "execution_count": 82,
   "metadata": {},
   "outputs": [
    {
     "data": {
      "text/plain": [
       "'text'"
      ]
     },
     "execution_count": 82,
     "metadata": {},
     "output_type": "execute_result"
    }
   ],
   "source": [
    "z"
   ]
  },
  {
   "cell_type": "code",
   "execution_count": 88,
   "metadata": {},
   "outputs": [
    {
     "data": {
      "text/plain": [
       "['radio', 'to', 'to', 'to', 'to', 'to']"
      ]
     },
     "execution_count": 88,
     "metadata": {},
     "output_type": "execute_result"
    }
   ],
   "source": [
    "a=[]\n",
    "for i in z:\n",
    "    if i.lower().endswith('o'):\n",
    "        a.append(i)\n",
    "a"
   ]
  },
  {
   "cell_type": "code",
   "execution_count": 30,
   "metadata": {},
   "outputs": [
    {
     "name": "stdout",
     "output_type": "stream",
     "text": [
      "List of words ends with e is:\n",
      "{'be', 'these', 'deutsche', 'one', 'made', 'he', 'message', 'type', 'mobile', '(compare', 'france', 'determine', '(see', 'have', '(groupe', 'while', 'since', '\"sequence', 'simple', 'language', 'the'}\n"
     ]
    }
   ],
   "source": []
  },
  {
   "cell_type": "code",
   "execution_count": 31,
   "metadata": {},
   "outputs": [
    {
     "name": "stdout",
     "output_type": "stream",
     "text": [
      "List of words ends with n is:\n",
      "{'kevin', 'than', 'in', 'ian', 'an', 'solution', 'finn', 'on', 'can', 'information', 'isdn', 'began'}\n"
     ]
    }
   ],
   "source": []
  },
  {
   "cell_type": "markdown",
   "metadata": {},
   "source": [
    ">  `Question:` Extract first 10 words of text and Capitalize first letter of each word"
   ]
  },
  {
   "cell_type": "code",
   "execution_count": 110,
   "metadata": {},
   "outputs": [
    {
     "data": {
      "text/plain": [
       "['The',\n",
       " 'University',\n",
       " 'of',\n",
       " 'Hawaii',\n",
       " 'began',\n",
       " 'using',\n",
       " 'radio',\n",
       " 'to',\n",
       " 'send',\n",
       " 'digital']"
      ]
     },
     "execution_count": 110,
     "metadata": {},
     "output_type": "execute_result"
    }
   ],
   "source": [
    "# CODE HERE\n",
    "text\n",
    "text.split()[0:10]"
   ]
  },
  {
   "cell_type": "code",
   "execution_count": 125,
   "metadata": {},
   "outputs": [
    {
     "data": {
      "text/plain": [
       "'The University Of Hawaii Began Using Radio To Send Digital'"
      ]
     },
     "execution_count": 125,
     "metadata": {},
     "output_type": "execute_result"
    }
   ],
   "source": [
    "text[0:58].title()"
   ]
  },
  {
   "cell_type": "code",
   "execution_count": null,
   "metadata": {},
   "outputs": [],
   "source": [
    "text[0:10].capitalize()"
   ]
  },
  {
   "cell_type": "code",
   "execution_count": 124,
   "metadata": {},
   "outputs": [
    {
     "data": {
      "text/plain": [
       "['radio',\n",
       " 'to',\n",
       " 'to',\n",
       " 'to',\n",
       " 'to',\n",
       " 'to',\n",
       " 'T',\n",
       " 'h',\n",
       " 'e',\n",
       " ' ',\n",
       " 'U',\n",
       " 'n',\n",
       " 'i',\n",
       " 'v',\n",
       " 'e',\n",
       " 'r',\n",
       " 's',\n",
       " 'i',\n",
       " 't',\n",
       " 'y',\n",
       " ' ',\n",
       " 'o',\n",
       " 'f',\n",
       " ' ',\n",
       " 'H',\n",
       " 'a',\n",
       " 'w',\n",
       " 'a',\n",
       " 'i',\n",
       " 'i',\n",
       " ' ',\n",
       " 'b',\n",
       " 'e',\n",
       " 'g',\n",
       " 'a',\n",
       " 'n',\n",
       " ' ',\n",
       " 'u',\n",
       " 's',\n",
       " 'i',\n",
       " 'n',\n",
       " 'g',\n",
       " ' ',\n",
       " 'r',\n",
       " 'a',\n",
       " 'd',\n",
       " 'i',\n",
       " 'o',\n",
       " ' ',\n",
       " 't',\n",
       " 'o',\n",
       " ' ',\n",
       " 's',\n",
       " 'e',\n",
       " 'n',\n",
       " 'd',\n",
       " ' ',\n",
       " 'd',\n",
       " 'i',\n",
       " 'g',\n",
       " 'i',\n",
       " 't',\n",
       " 'a',\n",
       " 'l',\n",
       " ' ',\n",
       " 'i',\n",
       " 'n',\n",
       " 'f',\n",
       " 'o',\n",
       " 'r',\n",
       " 'm',\n",
       " 'a',\n",
       " 't',\n",
       " 'i',\n",
       " 'o',\n",
       " 'n',\n",
       " ' ',\n",
       " 'a',\n",
       " 's',\n",
       " ' ',\n",
       " 'e',\n",
       " 'a',\n",
       " 'r',\n",
       " 'l',\n",
       " 'y',\n",
       " ' ',\n",
       " 'a',\n",
       " 's',\n",
       " ' ',\n",
       " '1',\n",
       " '9',\n",
       " '7',\n",
       " '1',\n",
       " ',',\n",
       " 'u',\n",
       " 's',\n",
       " 'i',\n",
       " 'n',\n",
       " 'g',\n",
       " ' ',\n",
       " 'A',\n",
       " 'L',\n",
       " 'O',\n",
       " 'H',\n",
       " 'A',\n",
       " 'n',\n",
       " 'e',\n",
       " 't',\n",
       " '.',\n",
       " ' ',\n",
       " '\\n',\n",
       " 'F',\n",
       " 'r',\n",
       " 'i',\n",
       " 'e',\n",
       " 'd',\n",
       " 'h',\n",
       " 'e',\n",
       " 'l',\n",
       " 'm',\n",
       " ' ',\n",
       " 'H',\n",
       " 'i',\n",
       " 'l',\n",
       " 'l',\n",
       " 'e',\n",
       " 'b',\n",
       " 'r',\n",
       " 'a',\n",
       " 'n',\n",
       " 'd',\n",
       " ' ',\n",
       " 'c',\n",
       " 'o',\n",
       " 'n',\n",
       " 'c',\n",
       " 'e',\n",
       " 'p',\n",
       " 't',\n",
       " 'u',\n",
       " 'a',\n",
       " 'l',\n",
       " 'i',\n",
       " 's',\n",
       " 'e',\n",
       " 'd',\n",
       " ' ',\n",
       " 'S',\n",
       " 'M',\n",
       " 'S',\n",
       " ' ',\n",
       " 'i',\n",
       " 'n',\n",
       " ' ',\n",
       " '1',\n",
       " '9',\n",
       " '8',\n",
       " '4',\n",
       " ' ',\n",
       " 'w',\n",
       " 'h',\n",
       " 'i',\n",
       " 'l',\n",
       " 'e',\n",
       " ' ',\n",
       " 'w',\n",
       " 'o',\n",
       " 'r',\n",
       " 'k',\n",
       " 'i',\n",
       " 'n',\n",
       " 'g',\n",
       " ' ',\n",
       " 'f',\n",
       " 'o',\n",
       " 'r',\n",
       " ' ',\n",
       " 'D',\n",
       " 'e',\n",
       " 'u',\n",
       " 't',\n",
       " 's',\n",
       " 'c',\n",
       " 'h',\n",
       " 'e',\n",
       " ' ',\n",
       " 'T',\n",
       " 'e',\n",
       " 'l',\n",
       " 'e',\n",
       " 'k',\n",
       " 'o',\n",
       " 'm',\n",
       " '.',\n",
       " ' ',\n",
       " 'S',\n",
       " 'i',\n",
       " 't',\n",
       " 't',\n",
       " 'i',\n",
       " 'n',\n",
       " 'g',\n",
       " ' ',\n",
       " 'a',\n",
       " 't',\n",
       " ' ',\n",
       " 'a',\n",
       " ' ',\n",
       " 't',\n",
       " 'y',\n",
       " 'p',\n",
       " 'e',\n",
       " 'w',\n",
       " 'r',\n",
       " 'i',\n",
       " 't',\n",
       " 'e',\n",
       " 'r',\n",
       " ' ',\n",
       " 'a',\n",
       " 't',\n",
       " ' ',\n",
       " 'h',\n",
       " 'o',\n",
       " 'm',\n",
       " 'e',\n",
       " ',',\n",
       " ' ',\n",
       " '\\n',\n",
       " 'H',\n",
       " 'i',\n",
       " 'l',\n",
       " 'l',\n",
       " 'e',\n",
       " 'b',\n",
       " 'r',\n",
       " 'a',\n",
       " 'n',\n",
       " 'd',\n",
       " ' ',\n",
       " 't',\n",
       " 'y',\n",
       " 'p',\n",
       " 'e',\n",
       " 'd',\n",
       " ' ',\n",
       " 'o',\n",
       " 'u',\n",
       " 't',\n",
       " ' ',\n",
       " 'r',\n",
       " 'a',\n",
       " 'n',\n",
       " 'd',\n",
       " 'o',\n",
       " 'm',\n",
       " ' ',\n",
       " 's',\n",
       " 'e',\n",
       " 'n',\n",
       " 't',\n",
       " 'e',\n",
       " 'n',\n",
       " 'c',\n",
       " 'e',\n",
       " 's',\n",
       " ' ',\n",
       " 'a',\n",
       " 'n',\n",
       " 'd',\n",
       " ' ',\n",
       " 'c',\n",
       " 'o',\n",
       " 'u',\n",
       " 'n',\n",
       " 't',\n",
       " 'e',\n",
       " 'd',\n",
       " ' ',\n",
       " 'e',\n",
       " 'v',\n",
       " 'e',\n",
       " 'r',\n",
       " 'y',\n",
       " ' ',\n",
       " 'l',\n",
       " 'e',\n",
       " 't',\n",
       " 't',\n",
       " 'e',\n",
       " 'r',\n",
       " ',',\n",
       " ' ',\n",
       " 'n',\n",
       " 'u',\n",
       " 'm',\n",
       " 'b',\n",
       " 'e',\n",
       " 'r',\n",
       " ',',\n",
       " ' ',\n",
       " 'p',\n",
       " 'u',\n",
       " 'n',\n",
       " 'c',\n",
       " 't',\n",
       " 'u',\n",
       " 'a',\n",
       " 't',\n",
       " 'i',\n",
       " 'o',\n",
       " 'n',\n",
       " ',',\n",
       " ' ',\n",
       " 'a',\n",
       " 'n',\n",
       " 'd',\n",
       " ' ',\n",
       " 's',\n",
       " 'p',\n",
       " 'a',\n",
       " 'c',\n",
       " 'e',\n",
       " '.',\n",
       " ' ',\n",
       " '\\n',\n",
       " 'A',\n",
       " 'l',\n",
       " 'm',\n",
       " 'o',\n",
       " 's',\n",
       " 't',\n",
       " ' ',\n",
       " 'e',\n",
       " 'v',\n",
       " 'e',\n",
       " 'r',\n",
       " 'y',\n",
       " ' ',\n",
       " 't',\n",
       " 'i',\n",
       " 'm',\n",
       " 'e',\n",
       " ',',\n",
       " ' ',\n",
       " 't',\n",
       " 'h',\n",
       " 'e',\n",
       " ' ',\n",
       " 'm',\n",
       " 'e',\n",
       " 's',\n",
       " 's',\n",
       " 'a',\n",
       " 'g',\n",
       " 'e',\n",
       " 's',\n",
       " ' ',\n",
       " 'c',\n",
       " 'o',\n",
       " 'n',\n",
       " 't',\n",
       " 'a',\n",
       " 'i',\n",
       " 'n',\n",
       " 'e',\n",
       " 'd',\n",
       " ' ',\n",
       " 'f',\n",
       " 'e',\n",
       " 'w',\n",
       " 'e',\n",
       " 'r',\n",
       " ' ',\n",
       " 't',\n",
       " 'h',\n",
       " 'a',\n",
       " 'n',\n",
       " ' ',\n",
       " '1',\n",
       " '6',\n",
       " '0',\n",
       " ' ',\n",
       " 'c',\n",
       " 'h',\n",
       " 'a',\n",
       " 'r',\n",
       " 'a',\n",
       " 'c',\n",
       " 't',\n",
       " 'e',\n",
       " 'r',\n",
       " 's',\n",
       " ',',\n",
       " ' ',\n",
       " 't',\n",
       " 'h',\n",
       " 'u',\n",
       " 's',\n",
       " ' ',\n",
       " 'g',\n",
       " 'i',\n",
       " 'v',\n",
       " 'i',\n",
       " 'n',\n",
       " 'g',\n",
       " ' ',\n",
       " 't',\n",
       " 'h',\n",
       " 'e',\n",
       " ' ',\n",
       " 'b',\n",
       " 'a',\n",
       " 's',\n",
       " 'i',\n",
       " 's',\n",
       " ' ',\n",
       " 'f',\n",
       " 'o',\n",
       " 'r',\n",
       " ' ',\n",
       " 't',\n",
       " 'h',\n",
       " 'e',\n",
       " ' ',\n",
       " '\\n',\n",
       " 'l',\n",
       " 'i',\n",
       " 'm',\n",
       " 'i',\n",
       " 't',\n",
       " ' ',\n",
       " 'o',\n",
       " 'n',\n",
       " 'e',\n",
       " ' ',\n",
       " 'c',\n",
       " 'o',\n",
       " 'u',\n",
       " 'l',\n",
       " 'd',\n",
       " ' ',\n",
       " 't',\n",
       " 'y',\n",
       " 'p',\n",
       " 'e',\n",
       " ' ',\n",
       " 'v',\n",
       " 'i',\n",
       " 'a',\n",
       " ' ',\n",
       " 't',\n",
       " 'e',\n",
       " 'x',\n",
       " 't',\n",
       " ' ',\n",
       " 'm',\n",
       " 'e',\n",
       " 's',\n",
       " 's',\n",
       " 'a',\n",
       " 'g',\n",
       " 'i',\n",
       " 'n',\n",
       " 'g',\n",
       " '.',\n",
       " ' ',\n",
       " 'W',\n",
       " 'i',\n",
       " 't',\n",
       " 'h',\n",
       " ' ',\n",
       " 'B',\n",
       " 'e',\n",
       " 'r',\n",
       " 'n',\n",
       " 'a',\n",
       " 'r',\n",
       " 'd',\n",
       " ' ',\n",
       " 'G',\n",
       " 'h',\n",
       " 'i',\n",
       " 'l',\n",
       " 'l',\n",
       " 'e',\n",
       " 'b',\n",
       " 'a',\n",
       " 'e',\n",
       " 'r',\n",
       " 't',\n",
       " ' ',\n",
       " 'o',\n",
       " 'f',\n",
       " ' ',\n",
       " 'F',\n",
       " 'r',\n",
       " 'a',\n",
       " 'n',\n",
       " 'c',\n",
       " 'e',\n",
       " ' ',\n",
       " 'T',\n",
       " 'é',\n",
       " 'l',\n",
       " 'é',\n",
       " 'c',\n",
       " 'o',\n",
       " 'm',\n",
       " ',',\n",
       " ' ',\n",
       " 'h',\n",
       " 'e',\n",
       " ' ',\n",
       " 'd',\n",
       " 'e',\n",
       " 'v',\n",
       " 'e',\n",
       " 'l',\n",
       " 'o',\n",
       " 'p',\n",
       " 'e',\n",
       " 'd',\n",
       " ' ',\n",
       " '\\n',\n",
       " 'a',\n",
       " ' ',\n",
       " 'p',\n",
       " 'r',\n",
       " 'o',\n",
       " 'p',\n",
       " 'o',\n",
       " 's',\n",
       " 'a',\n",
       " 'l',\n",
       " ' ',\n",
       " 'f',\n",
       " 'o',\n",
       " 'r',\n",
       " ' ',\n",
       " 't',\n",
       " 'h',\n",
       " 'e',\n",
       " ' ',\n",
       " 'G',\n",
       " 'S',\n",
       " 'M',\n",
       " ' ',\n",
       " '(',\n",
       " 'G',\n",
       " 'r',\n",
       " 'o',\n",
       " 'u',\n",
       " 'p',\n",
       " 'e',\n",
       " ' ',\n",
       " 'S',\n",
       " 'p',\n",
       " 'é',\n",
       " 'c',\n",
       " 'i',\n",
       " 'a',\n",
       " 'l',\n",
       " ' ',\n",
       " 'M',\n",
       " 'o',\n",
       " 'b',\n",
       " 'i',\n",
       " 'l',\n",
       " 'e',\n",
       " ')',\n",
       " ' ',\n",
       " 'm',\n",
       " 'e',\n",
       " 'e',\n",
       " 't',\n",
       " 'i',\n",
       " 'n',\n",
       " 'g',\n",
       " ' ',\n",
       " 'i',\n",
       " 'n',\n",
       " ' ',\n",
       " 'F',\n",
       " 'e',\n",
       " 'b',\n",
       " 'r',\n",
       " 'u',\n",
       " 'a',\n",
       " 'r',\n",
       " 'y',\n",
       " ' ',\n",
       " '1',\n",
       " '9',\n",
       " '8',\n",
       " '5',\n",
       " ' ',\n",
       " 'i',\n",
       " 'n',\n",
       " ' ',\n",
       " 'O',\n",
       " 's',\n",
       " 'l',\n",
       " 'o',\n",
       " '.',\n",
       " ' ',\n",
       " '\\n',\n",
       " 'T',\n",
       " 'h',\n",
       " 'e',\n",
       " ' ',\n",
       " 'f',\n",
       " 'i',\n",
       " 'r',\n",
       " 's',\n",
       " 't',\n",
       " ' ',\n",
       " 't',\n",
       " 'e',\n",
       " 'c',\n",
       " 'h',\n",
       " 'n',\n",
       " 'i',\n",
       " 'c',\n",
       " 'a',\n",
       " 'l',\n",
       " ' ',\n",
       " 's',\n",
       " 'o',\n",
       " 'l',\n",
       " 'u',\n",
       " 't',\n",
       " 'i',\n",
       " 'o',\n",
       " 'n',\n",
       " ' ',\n",
       " 'e',\n",
       " 'v',\n",
       " 'o',\n",
       " 'l',\n",
       " 'v',\n",
       " 'e',\n",
       " 'd',\n",
       " ' ',\n",
       " 'i',\n",
       " 'n',\n",
       " ' ',\n",
       " 'a',\n",
       " ' ',\n",
       " 'G',\n",
       " 'S',\n",
       " 'M',\n",
       " ' ',\n",
       " 's',\n",
       " 'u',\n",
       " 'b',\n",
       " 'g',\n",
       " 'r',\n",
       " 'o',\n",
       " 'u',\n",
       " 'p',\n",
       " ' ',\n",
       " 'u',\n",
       " 'n',\n",
       " 'd',\n",
       " 'e',\n",
       " 'r',\n",
       " ' ',\n",
       " 't',\n",
       " 'h',\n",
       " 'e',\n",
       " ' ',\n",
       " 'l',\n",
       " 'e',\n",
       " 'a',\n",
       " 'd',\n",
       " 'e',\n",
       " 'r',\n",
       " 's',\n",
       " 'h',\n",
       " 'i',\n",
       " 'p',\n",
       " ' ',\n",
       " 'o',\n",
       " 'f',\n",
       " ' ',\n",
       " 'F',\n",
       " 'i',\n",
       " 'n',\n",
       " 'n',\n",
       " ' ',\n",
       " 'T',\n",
       " 'r',\n",
       " 'o',\n",
       " 's',\n",
       " 'b',\n",
       " 'y',\n",
       " '.',\n",
       " ' ',\n",
       " '\\n',\n",
       " 'I',\n",
       " 't',\n",
       " ' ',\n",
       " 'w',\n",
       " 'a',\n",
       " 's',\n",
       " ' ',\n",
       " 'f',\n",
       " 'u',\n",
       " 'r',\n",
       " 't',\n",
       " 'h',\n",
       " 'e',\n",
       " 'r',\n",
       " ' ',\n",
       " 'd',\n",
       " 'e',\n",
       " 'v',\n",
       " 'e',\n",
       " 'l',\n",
       " 'o',\n",
       " 'p',\n",
       " 'e',\n",
       " 'd',\n",
       " ' ',\n",
       " 'u',\n",
       " 'n',\n",
       " 'd',\n",
       " 'e',\n",
       " 'r',\n",
       " ' ',\n",
       " 't',\n",
       " 'h',\n",
       " 'e',\n",
       " ' ',\n",
       " 'l',\n",
       " 'e',\n",
       " 'a',\n",
       " 'd',\n",
       " 'e',\n",
       " 'r',\n",
       " 's',\n",
       " 'h',\n",
       " 'i',\n",
       " 'p',\n",
       " ' ',\n",
       " 'o',\n",
       " 'f',\n",
       " ' ',\n",
       " 'K',\n",
       " 'e',\n",
       " 'v',\n",
       " 'i',\n",
       " 'n',\n",
       " ' ',\n",
       " 'H',\n",
       " 'o',\n",
       " 'l',\n",
       " 'l',\n",
       " 'e',\n",
       " 'y',\n",
       " ' ',\n",
       " 'a',\n",
       " 'n',\n",
       " 'd',\n",
       " ' ',\n",
       " 'I',\n",
       " 'a',\n",
       " 'n',\n",
       " ' ',\n",
       " 'H',\n",
       " 'a',\n",
       " 'r',\n",
       " 'r',\n",
       " 'i',\n",
       " 's',\n",
       " ' ',\n",
       " '(',\n",
       " 's',\n",
       " 'e',\n",
       " 'e',\n",
       " ' ',\n",
       " 'S',\n",
       " 'h',\n",
       " 'o',\n",
       " 'r',\n",
       " 't',\n",
       " ' ',\n",
       " 'M',\n",
       " 'e',\n",
       " 's',\n",
       " 's',\n",
       " 'a',\n",
       " 'g',\n",
       " 'e',\n",
       " ' ',\n",
       " 'S',\n",
       " 'e',\n",
       " 'r',\n",
       " 'v',\n",
       " 'i',\n",
       " 'c',\n",
       " 'e',\n",
       " ')',\n",
       " '.',\n",
       " ' ',\n",
       " '\\n',\n",
       " 'S',\n",
       " 'M',\n",
       " 'S',\n",
       " ' ',\n",
       " 'f',\n",
       " 'o',\n",
       " 'r',\n",
       " 'm',\n",
       " 's',\n",
       " ' ',\n",
       " 'a',\n",
       " 'n',\n",
       " ' ',\n",
       " 'i',\n",
       " 'n',\n",
       " 't',\n",
       " 'e',\n",
       " 'g',\n",
       " 'r',\n",
       " 'a',\n",
       " 'l',\n",
       " ' ',\n",
       " 'p',\n",
       " 'a',\n",
       " 'r',\n",
       " 't',\n",
       " ' ',\n",
       " 'o',\n",
       " 'f',\n",
       " ' ',\n",
       " 'S',\n",
       " 'S',\n",
       " '7',\n",
       " ' ',\n",
       " '(',\n",
       " 'S',\n",
       " 'i',\n",
       " 'g',\n",
       " 'n',\n",
       " 'a',\n",
       " 'l',\n",
       " 'l',\n",
       " 'i',\n",
       " 'n',\n",
       " 'g',\n",
       " ' ',\n",
       " 'S',\n",
       " 'y',\n",
       " 's',\n",
       " 't',\n",
       " 'e',\n",
       " 'm',\n",
       " ' ',\n",
       " 'N',\n",
       " 'o',\n",
       " '.',\n",
       " ' ',\n",
       " '7',\n",
       " ')',\n",
       " '.',\n",
       " ' ',\n",
       " 'U',\n",
       " 'n',\n",
       " 'd',\n",
       " 'e',\n",
       " 'r',\n",
       " ' ',\n",
       " 'S',\n",
       " 'S',\n",
       " '7',\n",
       " ',',\n",
       " ' ',\n",
       " 'i',\n",
       " 't',\n",
       " ' ',\n",
       " 'i',\n",
       " 's',\n",
       " ' ',\n",
       " 'a',\n",
       " ' ',\n",
       " '\"',\n",
       " 's',\n",
       " 't',\n",
       " 'a',\n",
       " 't',\n",
       " 'e',\n",
       " '\"',\n",
       " ' ',\n",
       " 'w',\n",
       " 'i',\n",
       " 't',\n",
       " 'h',\n",
       " ' ',\n",
       " 'a',\n",
       " ' ',\n",
       " '1',\n",
       " '6',\n",
       " '0',\n",
       " ' ',\n",
       " 'c',\n",
       " 'h',\n",
       " 'a',\n",
       " 'r',\n",
       " 'a',\n",
       " 'c',\n",
       " 't',\n",
       " 'e',\n",
       " 'r',\n",
       " ' ',\n",
       " 'd',\n",
       " 'a',\n",
       " 't',\n",
       " 'a',\n",
       " ',',\n",
       " ' ',\n",
       " '\\n',\n",
       " 'c',\n",
       " 'o',\n",
       " 'd',\n",
       " 'e',\n",
       " 'd',\n",
       " ' ',\n",
       " 'i',\n",
       " 'n',\n",
       " ' ',\n",
       " 't',\n",
       " 'h',\n",
       " 'e',\n",
       " ' ',\n",
       " 'I',\n",
       " 'T',\n",
       " 'U',\n",
       " '-',\n",
       " 'T',\n",
       " ' ',\n",
       " '\"',\n",
       " 'T',\n",
       " '.',\n",
       " '5',\n",
       " '6',\n",
       " '\"',\n",
       " ' ',\n",
       " 't',\n",
       " 'e',\n",
       " 'x',\n",
       " 't',\n",
       " ' ',\n",
       " 'f',\n",
       " 'o',\n",
       " 'r',\n",
       " 'm',\n",
       " 'a',\n",
       " 't',\n",
       " ',',\n",
       " ' ',\n",
       " 't',\n",
       " 'h',\n",
       " 'a',\n",
       " 't',\n",
       " ' ',\n",
       " 'h',\n",
       " 'a',\n",
       " 's',\n",
       " ' ',\n",
       " 'a',\n",
       " ' ',\n",
       " '\"',\n",
       " 's',\n",
       " 'e',\n",
       " 'q',\n",
       " 'u',\n",
       " 'e',\n",
       " 'n',\n",
       " 'c',\n",
       " 'e',\n",
       " ' ',\n",
       " 'l',\n",
       " 'e',\n",
       " 'a',\n",
       " 'd',\n",
       " ' ',\n",
       " 'i',\n",
       " 'n',\n",
       " '\"',\n",
       " ' ',\n",
       " 't',\n",
       " 'o',\n",
       " ' ',\n",
       " 'd',\n",
       " 'e',\n",
       " 't',\n",
       " 'e',\n",
       " 'r',\n",
       " ...]"
      ]
     },
     "execution_count": 124,
     "metadata": {},
     "output_type": "execute_result"
    }
   ],
   "source": [
    "z=text\n",
    "for i in z:\n",
    "    if i.lower().capitalize():\n",
    "        a.append(i)\n",
    "a"
   ]
  },
  {
   "cell_type": "markdown",
   "metadata": {},
   "source": [
    ">  `Question:` Replace the word \"University\" with name \"Innomatics\" in text"
   ]
  },
  {
   "cell_type": "code",
   "execution_count": 141,
   "metadata": {},
   "outputs": [
    {
     "data": {
      "text/plain": [
       "'The Innomatics of Hawaii began using radio to send digital information as early as 1971,using ALOHAnet. \\nFriedhelm Hillebrand conceptualised SMS in 1984 while working for Deutsche Telekom. Sitting at a typewriter at home, \\nHillebrand typed out random sentences and counted every letter, number, punctuation, and space. \\nAlmost every time, the messages contained fewer than 160 characters, thus giving the basis for the \\nlimit one could type via text messaging. With Bernard Ghillebaert of France Télécom, he developed \\na proposal for the GSM (Groupe Spécial Mobile) meeting in February 1985 in Oslo. \\nThe first technical solution evolved in a GSM subgroup under the leadership of Finn Trosby. \\nIt was further developed under the leadership of Kevin Holley and Ian Harris (see Short Message Service). \\nSMS forms an integral part of SS7 (Signalling System No. 7). Under SS7, it is a \"state\" with a 160 character data, \\ncoded in the ITU-T \"T.56\" text format, that has a \"sequence lead in\" to determine different language codes, \\nand may have special character codes that permits, for example, sending simple graphs as text. \\nThis was part of ISDN (Integrated Services Digital Network) and since GSM is based on this, \\nmade its way to the mobile phone. Messages could be sent and received on ISDN phones, \\nand these can send SMS to any GSM phone. The possibility of doing something is one thing, \\nimplementing it another, but systems existed from 1988 that sent SMS messages to mobile phones (compare ND-NOTIS).'"
      ]
     },
     "execution_count": 141,
     "metadata": {},
     "output_type": "execute_result"
    }
   ],
   "source": [
    "# CODE HERE\n",
    "text.replace(\"University\",\"Innomatics\")"
   ]
  },
  {
   "cell_type": "code",
   "execution_count": 35,
   "metadata": {
    "scrolled": false
   },
   "outputs": [
    {
     "name": "stdout",
     "output_type": "stream",
     "text": [
      "The Innomatics of Hawaii began using radio to send digital information as early as 1971,using ALOHAnet. \n",
      "Friedhelm Hillebrand conceptualised SMS in 1984 while working for Deutsche Telekom. Sitting at a typewriter at home, \n",
      "Hillebrand typed out random sentences and counted every letter, number, punctuation, and space. \n",
      "Almost every time, the messages contained fewer than 160 characters, thus giving the basis for the \n",
      "limit one could type via text messaging. With Bernard Ghillebaert of France Télécom, he developed \n",
      "a proposal for the GSM (Groupe Spécial Mobile) meeting in February 1985 in Oslo. \n",
      "The first technical solution evolved in a GSM subgroup under the leadership of Finn Trosby. \n",
      "It was further developed under the leadership of Kevin Holley and Ian Harris (see Short Message Service). \n",
      "SMS forms an integral part of SS7 (Signalling System No. 7). Under SS7, it is a \"state\" with a 160 character data, \n",
      "coded in the ITU-T \"T.56\" text format, that has a \"sequence lead in\" to determine different language codes, \n",
      "and may have special character codes that permits, for example, sending simple graphs as text. \n",
      "This was part of ISDN (Integrated Services Digital Network) and since GSM is based on this, \n",
      "made its way to the mobile phone. Messages could be sent and received on ISDN phones, \n",
      "and these can send SMS to any GSM phone. The possibility of doing something is one thing, \n",
      "implementing it another, but systems existed from 1988 that sent SMS messages to mobile phones (compare ND-NOTIS).\n"
     ]
    }
   ],
   "source": []
  },
  {
   "cell_type": "markdown",
   "metadata": {},
   "source": [
    "> `Question:`  Convert the \"text\" into sentances and store those into one variable called \"sentance\""
   ]
  },
  {
   "cell_type": "code",
   "execution_count": 76,
   "metadata": {},
   "outputs": [
    {
     "data": {
      "text/plain": [
       "['text']"
      ]
     },
     "execution_count": 76,
     "metadata": {},
     "output_type": "execute_result"
    }
   ],
   "source": [
    "# CODE HERE\n",
    "z=\"text\"\n",
    "k=z.split()\n",
    "k"
   ]
  },
  {
   "cell_type": "code",
   "execution_count": 77,
   "metadata": {},
   "outputs": [],
   "source": [
    "k='sentence'"
   ]
  },
  {
   "cell_type": "code",
   "execution_count": 78,
   "metadata": {},
   "outputs": [
    {
     "data": {
      "text/plain": [
       "'sentence'"
      ]
     },
     "execution_count": 78,
     "metadata": {},
     "output_type": "execute_result"
    }
   ],
   "source": [
    "k"
   ]
  },
  {
   "cell_type": "code",
   "execution_count": null,
   "metadata": {},
   "outputs": [],
   "source": []
  },
  {
   "cell_type": "code",
   "execution_count": null,
   "metadata": {},
   "outputs": [],
   "source": []
  },
  {
   "cell_type": "code",
   "execution_count": 142,
   "metadata": {},
   "outputs": [
    {
     "name": "stdout",
     "output_type": "stream",
     "text": [
      "['The University of Hawaii began using radio to send digital information as early as 1971,using ALOHAnet', ' \\nFriedhelm Hillebrand conceptualised SMS in 1984 while working for Deutsche Telekom', ' Sitting at a typewriter at home, \\nHillebrand typed out random sentences and counted every letter, number, punctuation, and space', ' \\nAlmost every time, the messages contained fewer than 160 characters, thus giving the basis for the \\nlimit one could type via text messaging', ' With Bernard Ghillebaert of France Télécom, he developed \\na proposal for the GSM (Groupe Spécial Mobile) meeting in February 1985 in Oslo', ' \\nThe first technical solution evolved in a GSM subgroup under the leadership of Finn Trosby', ' \\nIt was further developed under the leadership of Kevin Holley and Ian Harris (see Short Message Service)', ' \\nSMS forms an integral part of SS7 (Signalling System No', ' 7)', ' Under SS7, it is a \"state\" with a 160 character data, \\ncoded in the ITU-T \"T', '56\" text format, that has a \"sequence lead in\" to determine different language codes, \\nand may have special character codes that permits, for example, sending simple graphs as text', ' \\nThis was part of ISDN (Integrated Services Digital Network) and since GSM is based on this, \\nmade its way to the mobile phone', ' Messages could be sent and received on ISDN phones, \\nand these can send SMS to any GSM phone', ' The possibility of doing something is one thing, \\nimplementing it another, but systems existed from 1988 that sent SMS messages to mobile phones (compare ND-NOTIS)', '']\n"
     ]
    }
   ],
   "source": [
    "sentence=(text.split(\".\"))\n",
    "print(sentence)"
   ]
  },
  {
   "cell_type": "markdown",
   "metadata": {},
   "source": [
    " `Question:`\n",
    " \n",
    "> 1.From the above sentance remove '\\n'\n"
   ]
  },
  {
   "cell_type": "code",
   "execution_count": 143,
   "metadata": {},
   "outputs": [
    {
     "data": {
      "text/plain": [
       "'The University of Hawaii began using radio to send digital information as early as 1971,using ALOHAnet. .Friedhelm Hillebrand conceptualised SMS in 1984 while working for Deutsche Telekom. Sitting at a typewriter at home, .Hillebrand typed out random sentences and counted every letter, number, punctuation, and space. .Almost every time, the messages contained fewer than 160 characters, thus giving the basis for the .limit one could type via text messaging. With Bernard Ghillebaert of France Télécom, he developed .a proposal for the GSM (Groupe Spécial Mobile) meeting in February 1985 in Oslo. .The first technical solution evolved in a GSM subgroup under the leadership of Finn Trosby. .It was further developed under the leadership of Kevin Holley and Ian Harris (see Short Message Service). .SMS forms an integral part of SS7 (Signalling System No. 7). Under SS7, it is a \"state\" with a 160 character data, .coded in the ITU-T \"T.56\" text format, that has a \"sequence lead in\" to determine different language codes, .and may have special character codes that permits, for example, sending simple graphs as text. .This was part of ISDN (Integrated Services Digital Network) and since GSM is based on this, .made its way to the mobile phone. Messages could be sent and received on ISDN phones, .and these can send SMS to any GSM phone. The possibility of doing something is one thing, .implementing it another, but systems existed from 1988 that sent SMS messages to mobile phones (compare ND-NOTIS).'"
      ]
     },
     "execution_count": 143,
     "metadata": {},
     "output_type": "execute_result"
    }
   ],
   "source": [
    "q=\"\"\"The University of Hawaii began using radio to send digital information as early as 1971,using ALOHAnet. \n",
    "Friedhelm Hillebrand conceptualised SMS in 1984 while working for Deutsche Telekom. Sitting at a typewriter at home, \n",
    "Hillebrand typed out random sentences and counted every letter, number, punctuation, and space. \n",
    "Almost every time, the messages contained fewer than 160 characters, thus giving the basis for the \n",
    "limit one could type via text messaging. With Bernard Ghillebaert of France Télécom, he developed \n",
    "a proposal for the GSM (Groupe Spécial Mobile) meeting in February 1985 in Oslo. \n",
    "The first technical solution evolved in a GSM subgroup under the leadership of Finn Trosby. \n",
    "It was further developed under the leadership of Kevin Holley and Ian Harris (see Short Message Service). \n",
    "SMS forms an integral part of SS7 (Signalling System No. 7). Under SS7, it is a \"state\" with a 160 character data, \n",
    "coded in the ITU-T \"T.56\" text format, that has a \"sequence lead in\" to determine different language codes, \n",
    "and may have special character codes that permits, for example, sending simple graphs as text. \n",
    "This was part of ISDN (Integrated Services Digital Network) and since GSM is based on this, \n",
    "made its way to the mobile phone. Messages could be sent and received on ISDN phones, \n",
    "and these can send SMS to any GSM phone. The possibility of doing something is one thing, \n",
    "implementing it another, but systems existed from 1988 that sent SMS messages to mobile phones (compare ND-NOTIS).\"\"\"\n",
    "q.replace('\\n',\".\")"
   ]
  },
  {
   "cell_type": "code",
   "execution_count": null,
   "metadata": {},
   "outputs": [],
   "source": []
  },
  {
   "cell_type": "code",
   "execution_count": null,
   "metadata": {},
   "outputs": [],
   "source": []
  },
  {
   "cell_type": "code",
   "execution_count": null,
   "metadata": {},
   "outputs": [],
   "source": [
    "\n"
   ]
  },
  {
   "cell_type": "markdown",
   "metadata": {},
   "source": [
    " > 2. From the above sentace print the first word from each sentance\n"
   ]
  },
  {
   "cell_type": "code",
   "execution_count": 5,
   "metadata": {},
   "outputs": [],
   "source": [
    "q1=\"\"\"The University of Hawaii began using radio to send digital information as early as 1971,using ALOHAnet. \n",
    "Friedhelm Hillebrand conceptualised SMS in 1984 while working for Deutsche Telekom. Sitting at a typewriter at home, \n",
    "Hillebrand typed out random sentences and counted every letter, number, punctuation, and space. \n",
    "Almost every time, the messages contained fewer than 160 characters, thus giving the basis for the \n",
    "limit one could type via text messaging. With Bernard Ghillebaert of France Télécom, he developed \n",
    "a proposal for the GSM (Groupe Spécial Mobile) meeting in February 1985 in Oslo. \n",
    "The first technical solution evolved in a GSM subgroup under the leadership of Finn Trosby. \n",
    "It was further developed under the leadership of Kevin Holley and Ian Harris (see Short Message Service). \n",
    "SMS forms an integral part of SS7 (Signalling System No. 7). Under SS7, it is a \"state\" with a 160 character data, \n",
    "coded in the ITU-T \"T.56\" text format, that has a \"sequence lead in\" to determine different language codes, \n",
    "and may have special character codes that permits, for example, sending simple graphs as text. \n",
    "This was part of ISDN (Integrated Services Digital Network) and since GSM is based on this, \n",
    "made its way to the mobile phone. Messages could be sent and received on ISDN phones, \n",
    "and these can send SMS to any GSM phone. The possibility of doing something is one thing, \n",
    "implementing it another, but systems existed from 1988 that sent SMS messages to mobile phones (compare ND-NOTIS).\"\"\""
   ]
  },
  {
   "cell_type": "code",
   "execution_count": 6,
   "metadata": {},
   "outputs": [
    {
     "data": {
      "text/plain": [
       "['The University of Hawaii began using radio to send digital information as early as 1971,using ALOHAnet. ',\n",
       " 'Friedhelm Hillebrand conceptualised SMS in 1984 while working for Deutsche Telekom. Sitting at a typewriter at home, ',\n",
       " 'Hillebrand typed out random sentences and counted every letter, number, punctuation, and space. ',\n",
       " 'Almost every time, the messages contained fewer than 160 characters, thus giving the basis for the ',\n",
       " 'limit one could type via text messaging. With Bernard Ghillebaert of France Télécom, he developed ',\n",
       " 'a proposal for the GSM (Groupe Spécial Mobile) meeting in February 1985 in Oslo. ',\n",
       " 'The first technical solution evolved in a GSM subgroup under the leadership of Finn Trosby. ',\n",
       " 'It was further developed under the leadership of Kevin Holley and Ian Harris (see Short Message Service). ',\n",
       " 'SMS forms an integral part of SS7 (Signalling System No. 7). Under SS7, it is a \"state\" with a 160 character data, ',\n",
       " 'coded in the ITU-T \"T.56\" text format, that has a \"sequence lead in\" to determine different language codes, ',\n",
       " 'and may have special character codes that permits, for example, sending simple graphs as text. ',\n",
       " 'This was part of ISDN (Integrated Services Digital Network) and since GSM is based on this, ',\n",
       " 'made its way to the mobile phone. Messages could be sent and received on ISDN phones, ',\n",
       " 'and these can send SMS to any GSM phone. The possibility of doing something is one thing, ',\n",
       " 'implementing it another, but systems existed from 1988 that sent SMS messages to mobile phones (compare ND-NOTIS).']"
      ]
     },
     "execution_count": 6,
     "metadata": {},
     "output_type": "execute_result"
    }
   ],
   "source": [
    "v=str(q1)\n",
    "v.split(\"\\n\")"
   ]
  },
  {
   "cell_type": "code",
   "execution_count": 9,
   "metadata": {},
   "outputs": [
    {
     "data": {
      "text/plain": [
       "['The',\n",
       " 'University',\n",
       " 'of',\n",
       " 'Hawaii',\n",
       " 'began',\n",
       " 'using',\n",
       " 'radio',\n",
       " 'to',\n",
       " 'send',\n",
       " 'digital',\n",
       " 'information',\n",
       " 'as',\n",
       " 'early',\n",
       " 'as',\n",
       " '1971,using',\n",
       " 'ALOHAnet.',\n",
       " 'Friedhelm',\n",
       " 'Hillebrand',\n",
       " 'conceptualised',\n",
       " 'SMS',\n",
       " 'in',\n",
       " '1984',\n",
       " 'while',\n",
       " 'working',\n",
       " 'for',\n",
       " 'Deutsche',\n",
       " 'Telekom.',\n",
       " 'Sitting',\n",
       " 'at',\n",
       " 'a',\n",
       " 'typewriter',\n",
       " 'at',\n",
       " 'home,',\n",
       " 'Hillebrand',\n",
       " 'typed',\n",
       " 'out',\n",
       " 'random',\n",
       " 'sentences',\n",
       " 'and',\n",
       " 'counted',\n",
       " 'every',\n",
       " 'letter,',\n",
       " 'number,',\n",
       " 'punctuation,',\n",
       " 'and',\n",
       " 'space.',\n",
       " 'Almost',\n",
       " 'every',\n",
       " 'time,',\n",
       " 'the',\n",
       " 'messages',\n",
       " 'contained',\n",
       " 'fewer',\n",
       " 'than',\n",
       " '160',\n",
       " 'characters,',\n",
       " 'thus',\n",
       " 'giving',\n",
       " 'the',\n",
       " 'basis',\n",
       " 'for',\n",
       " 'the',\n",
       " 'limit',\n",
       " 'one',\n",
       " 'could',\n",
       " 'type',\n",
       " 'via',\n",
       " 'text',\n",
       " 'messaging.',\n",
       " 'With',\n",
       " 'Bernard',\n",
       " 'Ghillebaert',\n",
       " 'of',\n",
       " 'France',\n",
       " 'Télécom,',\n",
       " 'he',\n",
       " 'developed',\n",
       " 'a',\n",
       " 'proposal',\n",
       " 'for',\n",
       " 'the',\n",
       " 'GSM',\n",
       " '(Groupe',\n",
       " 'Spécial',\n",
       " 'Mobile)',\n",
       " 'meeting',\n",
       " 'in',\n",
       " 'February',\n",
       " '1985',\n",
       " 'in',\n",
       " 'Oslo.',\n",
       " 'The',\n",
       " 'first',\n",
       " 'technical',\n",
       " 'solution',\n",
       " 'evolved',\n",
       " 'in',\n",
       " 'a',\n",
       " 'GSM',\n",
       " 'subgroup',\n",
       " 'under',\n",
       " 'the',\n",
       " 'leadership',\n",
       " 'of',\n",
       " 'Finn',\n",
       " 'Trosby.',\n",
       " 'It',\n",
       " 'was',\n",
       " 'further',\n",
       " 'developed',\n",
       " 'under',\n",
       " 'the',\n",
       " 'leadership',\n",
       " 'of',\n",
       " 'Kevin',\n",
       " 'Holley',\n",
       " 'and',\n",
       " 'Ian',\n",
       " 'Harris',\n",
       " '(see',\n",
       " 'Short',\n",
       " 'Message',\n",
       " 'Service).',\n",
       " 'SMS',\n",
       " 'forms',\n",
       " 'an',\n",
       " 'integral',\n",
       " 'part',\n",
       " 'of',\n",
       " 'SS7',\n",
       " '(Signalling',\n",
       " 'System',\n",
       " 'No.',\n",
       " '7).',\n",
       " 'Under',\n",
       " 'SS7,',\n",
       " 'it',\n",
       " 'is',\n",
       " 'a',\n",
       " '\"state\"',\n",
       " 'with',\n",
       " 'a',\n",
       " '160',\n",
       " 'character',\n",
       " 'data,',\n",
       " 'coded',\n",
       " 'in',\n",
       " 'the',\n",
       " 'ITU-T',\n",
       " '\"T.56\"',\n",
       " 'text',\n",
       " 'format,',\n",
       " 'that',\n",
       " 'has',\n",
       " 'a',\n",
       " '\"sequence',\n",
       " 'lead',\n",
       " 'in\"',\n",
       " 'to',\n",
       " 'determine',\n",
       " 'different',\n",
       " 'language',\n",
       " 'codes,',\n",
       " 'and',\n",
       " 'may',\n",
       " 'have',\n",
       " 'special',\n",
       " 'character',\n",
       " 'codes',\n",
       " 'that',\n",
       " 'permits,',\n",
       " 'for',\n",
       " 'example,',\n",
       " 'sending',\n",
       " 'simple',\n",
       " 'graphs',\n",
       " 'as',\n",
       " 'text.',\n",
       " 'This',\n",
       " 'was',\n",
       " 'part',\n",
       " 'of',\n",
       " 'ISDN',\n",
       " '(Integrated',\n",
       " 'Services',\n",
       " 'Digital',\n",
       " 'Network)',\n",
       " 'and',\n",
       " 'since',\n",
       " 'GSM',\n",
       " 'is',\n",
       " 'based',\n",
       " 'on',\n",
       " 'this,',\n",
       " 'made',\n",
       " 'its',\n",
       " 'way',\n",
       " 'to',\n",
       " 'the',\n",
       " 'mobile',\n",
       " 'phone.',\n",
       " 'Messages',\n",
       " 'could',\n",
       " 'be',\n",
       " 'sent',\n",
       " 'and',\n",
       " 'received',\n",
       " 'on',\n",
       " 'ISDN',\n",
       " 'phones,',\n",
       " 'and',\n",
       " 'these',\n",
       " 'can',\n",
       " 'send',\n",
       " 'SMS',\n",
       " 'to',\n",
       " 'any',\n",
       " 'GSM',\n",
       " 'phone.',\n",
       " 'The',\n",
       " 'possibility',\n",
       " 'of',\n",
       " 'doing',\n",
       " 'something',\n",
       " 'is',\n",
       " 'one',\n",
       " 'thing,',\n",
       " 'implementing',\n",
       " 'it',\n",
       " 'another,',\n",
       " 'but',\n",
       " 'systems',\n",
       " 'existed',\n",
       " 'from',\n",
       " '1988',\n",
       " 'that',\n",
       " 'sent',\n",
       " 'SMS',\n",
       " 'messages',\n",
       " 'to',\n",
       " 'mobile',\n",
       " 'phones',\n",
       " '(compare',\n",
       " 'ND-NOTIS).']"
      ]
     },
     "execution_count": 9,
     "metadata": {},
     "output_type": "execute_result"
    }
   ],
   "source": [
    "v.split()[0:]"
   ]
  },
  {
   "cell_type": "code",
   "execution_count": 10,
   "metadata": {},
   "outputs": [],
   "source": [
    "q1=\"\"\"The University of Hawaii began using radio to send digital information as early as 1971,using ALOHAnet. \n",
    "Friedhelm Hillebrand conceptualised SMS in 1984 while working for Deutsche Telekom. Sitting at a typewriter at home, \n",
    "Hillebrand typed out random sentences and counted every letter, number, punctuation, and space. \n",
    "Almost every time, the messages contained fewer than 160 characters, thus giving the basis for the \n",
    "limit one could type via text messaging. With Bernard Ghillebaert of France Télécom, he developed \n",
    "a proposal for the GSM (Groupe Spécial Mobile) meeting in February 1985 in Oslo. \n",
    "The first technical solution evolved in a GSM subgroup under the leadership of Finn Trosby. \n",
    "It was further developed under the leadership of Kevin Holley and Ian Harris (see Short Message Service). \n",
    "SMS forms an integral part of SS7 (Signalling System No. 7). Under SS7, it is a \"state\" with a 160 character data, \n",
    "coded in the ITU-T \"T.56\" text format, that has a \"sequence lead in\" to determine different language codes, \n",
    "and may have special character codes that permits, for example, sending simple graphs as text. \n",
    "This was part of ISDN (Integrated Services Digital Network) and since GSM is based on this, \n",
    "made its way to the mobile phone. Messages could be sent and received on ISDN phones, \n",
    "and these can send SMS to any GSM phone. The possibility of doing something is one thing, \n",
    "implementing it another, but systems existed from 1988 that sent SMS messages to mobile phones (compare ND-NOTIS).\"\"\""
   ]
  },
  {
   "cell_type": "code",
   "execution_count": 17,
   "metadata": {},
   "outputs": [],
   "source": [
    "b=q1.split('\\n')"
   ]
  },
  {
   "cell_type": "code",
   "execution_count": 18,
   "metadata": {},
   "outputs": [
    {
     "name": "stdout",
     "output_type": "stream",
     "text": [
      "The\n",
      "Friedhelm\n",
      "Hillebrand\n",
      "Almost\n",
      "limit\n",
      "a\n",
      "The\n",
      "It\n",
      "SMS\n",
      "coded\n",
      "and\n",
      "This\n",
      "made\n",
      "and\n",
      "implementing\n"
     ]
    }
   ],
   "source": [
    "for y in b:\n",
    "    print(y.split()[0])"
   ]
  },
  {
   "cell_type": "markdown",
   "metadata": {},
   "source": [
    "> 3. From the above sentace print even posioned sentances"
   ]
  },
  {
   "cell_type": "code",
   "execution_count": 146,
   "metadata": {},
   "outputs": [
    {
     "data": {
      "text/plain": [
       "['The University of Hawaii began using radio to send digital information as early as 1971,using ALOHAnet',\n",
       " ' Sitting at a typewriter at home, \\nHillebrand typed out random sentences and counted every letter, number, punctuation, and space',\n",
       " ' With Bernard Ghillebaert of France Télécom, he developed \\na proposal for the GSM (Groupe Spécial Mobile) meeting in February 1985 in Oslo',\n",
       " ' \\nIt was further developed under the leadership of Kevin Holley and Ian Harris (see Short Message Service)',\n",
       " ' 7)',\n",
       " '56\" text format, that has a \"sequence lead in\" to determine different language codes, \\nand may have special character codes that permits, for example, sending simple graphs as text',\n",
       " ' Messages could be sent and received on ISDN phones, \\nand these can send SMS to any GSM phone',\n",
       " '']"
      ]
     },
     "execution_count": 146,
     "metadata": {},
     "output_type": "execute_result"
    }
   ],
   "source": [
    "sentence[0:1507:2]"
   ]
  },
  {
   "cell_type": "markdown",
   "metadata": {},
   "source": [
    ">   `Question:` If the following string is given as input to the program:\n",
    "\n",
    "- H1e2l3l4o5w6o7r8l9d\n",
    "\n",
    ">   `Output:`  Then, the output of the program should be:\n",
    "\n",
    "- Helloworld"
   ]
  },
  {
   "cell_type": "code",
   "execution_count": 5,
   "metadata": {},
   "outputs": [
    {
     "data": {
      "text/plain": [
       "'Helloworld'"
      ]
     },
     "execution_count": 5,
     "metadata": {},
     "output_type": "execute_result"
    }
   ],
   "source": [
    "y=\"H1e2l3l4o5w6o7r8l9d\"\n",
    "y[0]+y[2]+y[4]+y[6]+y[8]+y[10]+y[12]+y[14]+y[16]+y[18]"
   ]
  },
  {
   "cell_type": "code",
   "execution_count": 147,
   "metadata": {},
   "outputs": [
    {
     "data": {
      "text/plain": [
       "'Helloworld'"
      ]
     },
     "execution_count": 147,
     "metadata": {},
     "output_type": "execute_result"
    }
   ],
   "source": [
    "y=\"H1e2l3l4o5w6o7r8l9d\"\n",
    "y[0:19:2]"
   ]
  },
  {
   "cell_type": "markdown",
   "metadata": {},
   "source": [
    "# [Innomatics Research Labs](https:/innomatics.in/)\n",
    "[www.innomatics.in](https:/innomatics.in/)"
   ]
  },
  {
   "cell_type": "code",
   "execution_count": null,
   "metadata": {},
   "outputs": [],
   "source": []
  }
 ],
 "metadata": {
  "kernelspec": {
   "display_name": "Python 3 (ipykernel)",
   "language": "python",
   "name": "python3"
  },
  "language_info": {
   "codemirror_mode": {
    "name": "ipython",
    "version": 3
   },
   "file_extension": ".py",
   "mimetype": "text/x-python",
   "name": "python",
   "nbconvert_exporter": "python",
   "pygments_lexer": "ipython3",
   "version": "3.9.7"
  }
 },
 "nbformat": 4,
 "nbformat_minor": 2
}
