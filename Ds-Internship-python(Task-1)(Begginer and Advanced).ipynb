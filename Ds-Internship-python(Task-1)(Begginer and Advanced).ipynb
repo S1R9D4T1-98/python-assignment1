{
 "cells": [
  {
   "cell_type": "markdown",
   "id": "c2c2b45e",
   "metadata": {},
   "source": [
    "## Task-1\n",
    "\n",
    "\n",
    "## Begginer level:"
   ]
  },
  {
   "cell_type": "markdown",
   "id": "567392f0",
   "metadata": {},
   "source": [
    "1.say \"Hello, World\" with python"
   ]
  },
  {
   "cell_type": "code",
   "execution_count": 1,
   "id": "0b89f651",
   "metadata": {},
   "outputs": [
    {
     "name": "stdout",
     "output_type": "stream",
     "text": [
      "Hello,World!\n"
     ]
    }
   ],
   "source": [
    "print(\"Hello,World!\")"
   ]
  },
  {
   "cell_type": "markdown",
   "id": "e35b5de5",
   "metadata": {},
   "source": [
    "2.python If-Else:\n",
    "Task: \n",
    " Given an integer, , perform the following conditional actions:\n",
    "\n",
    "If  is odd, print Weird\n",
    "If  is even and in the inclusive range of  to , print Not Weird\n",
    "If  is even and in the inclusive range of  to , print Weird\n",
    "If  is even and greater than , print Not Weird"
   ]
  },
  {
   "cell_type": "code",
   "execution_count": 1,
   "id": "bf301363",
   "metadata": {},
   "outputs": [
    {
     "name": "stdout",
     "output_type": "stream",
     "text": [
      "20\n",
      "Weird\n"
     ]
    }
   ],
   "source": [
    "n=int(input())\n",
    "if (n%2!=0):\n",
    "    print(\"Weird\")\n",
    "elif (n>2 and n<=5):\n",
    "    print(\"Not Weird\")\n",
    "elif (n>6 and n<=20):\n",
    "    print(\"Weird\")\n",
    "elif (n>20):\n",
    "    print(\"Not Weird\")"
   ]
  },
  {
   "cell_type": "markdown",
   "id": "298443fc",
   "metadata": {},
   "source": [
    "3.Task\n",
    "The provided code stub reads two integers from STDIN,  and . Add code to print three lines where:\n",
    "\n",
    "The first line contains the sum of the two numbers.\n",
    "The second line contains the difference of the two numbers (first - second).\n",
    "The third line contains the product of the two numbers.\n",
    "Example\n",
    "a = 3\n",
    "b = 5"
   ]
  },
  {
   "cell_type": "code",
   "execution_count": null,
   "id": "dac6e800",
   "metadata": {},
   "outputs": [],
   "source": [
    "a = int(input())\n",
    "b = int(input())\n",
    "print(a+b)\n",
    "print(a-b)\n",
    "print(a*b)"
   ]
  },
  {
   "cell_type": "code",
   "execution_count": null,
   "id": "b318afb3",
   "metadata": {},
   "outputs": [],
   "source": []
  },
  {
   "cell_type": "markdown",
   "id": "634715f5",
   "metadata": {},
   "source": [
    "4.The provided code stub reads two integers,  and , from STDIN.\n",
    "\n",
    "Add logic to print two lines. The first line should contain the result of integer division,  // . The second line should contain the result of float division,  / .\n",
    "\n",
    "No rounding or formatting is necessary.\n",
    "\n",
    "Example\n",
    "a =3\n",
    "b =5\n",
    "\n",
    "The result of the integer division .3//5 = 0.\n",
    "The result of the float division is .3//5 = 0.6"
   ]
  },
  {
   "cell_type": "code",
   "execution_count": null,
   "id": "a307bbfe",
   "metadata": {},
   "outputs": [],
   "source": [
    "a = int(input())\n",
    "b = int(input())\n",
    "print(a//b)\n",
    "print(a/b)"
   ]
  },
  {
   "cell_type": "markdown",
   "id": "3ecc7c20",
   "metadata": {},
   "source": [
    "5.LOOPS:\n",
    "The provided code stub reads and integer, , from STDIN. For all non-negative integers , print .\n",
    "\n",
    "Example\n",
    "n = 3\n",
    "is [0,1,2]\n",
    "The list of non-negative integers that are less than  is . Print the square of each number on a separate line."
   ]
  },
  {
   "cell_type": "code",
   "execution_count": null,
   "id": "36ac2132",
   "metadata": {},
   "outputs": [],
   "source": [
    "n = int(input())\n",
    "for i in range(0,n):\n",
    "    if i<n:\n",
    "        print(i**2)"
   ]
  },
  {
   "cell_type": "markdown",
   "id": "85f33585",
   "metadata": {},
   "source": [
    "6.Given a year, determine whether it is a leap year. If it is a leap year, return the Boolean True, otherwise return False.\n",
    "\n",
    "Note that the code stub provided reads from STDIN and passes arguments to the is_leap function. It is only necessary to complete the is_leap function.\n",
    "\n",
    "Input Format\n",
    "\n",
    "Read ,year, the year to test.\n",
    "\n"
   ]
  },
  {
   "cell_type": "code",
   "execution_count": null,
   "id": "e338acf8",
   "metadata": {},
   "outputs": [],
   "source": [
    "def is_leap(year):\n",
    "    \n",
    "    \n",
    "    # Write your logic here\n",
    "    if ((year%400==0) or ((year%100!=0) and (year%4==0))):\n",
    "        return True\n",
    "    else: \n",
    "        return False;\n",
    "    \n",
    "        \n",
    "    \n",
    "    \n",
    "year = int(input())"
   ]
  },
  {
   "cell_type": "markdown",
   "id": "02a21d67",
   "metadata": {},
   "source": [
    "7.The included code stub will read an integer, , from STDIN.\n",
    "\n",
    "Without using any string methods, try to print the following:\n",
    "\n",
    "123...n\n",
    "\n",
    "\n",
    "Note that \"\" represents the consecutive values in between.\n",
    "\n",
    "Example\n",
    "\n",
    "Print the string .12345\n",
    "\n",
    "Input Format\n",
    "\n",
    "The first line contains an integer .n"
   ]
  },
  {
   "cell_type": "code",
   "execution_count": null,
   "id": "3db5a353",
   "metadata": {},
   "outputs": [],
   "source": [
    "n = int(input())\n",
    "a = []\n",
    "\n",
    "for i in range(1,n+1):\n",
    "    a.append(i)\n",
    "    output=''.join(str(x) for x in a)\n",
    "print(output)"
   ]
  },
  {
   "cell_type": "code",
   "execution_count": null,
   "id": "14323680",
   "metadata": {},
   "outputs": [],
   "source": []
  },
  {
   "cell_type": "markdown",
   "id": "58c559b8",
   "metadata": {},
   "source": [
    "## Advanced:"
   ]
  },
  {
   "cell_type": "markdown",
   "id": "d8d7fbb9",
   "metadata": {},
   "source": [
    "1.Running Sum of 1d Array \n",
    "\n",
    "\n",
    "Given an array nums. We define a running sum of an array as runningSum[i] = sum(nums[0]…nums[i]).\n",
    "\n",
    "Return the running sum of nums.\n",
    "\n",
    "\n",
    "Input: nums = [1,2,3,4]\n",
    "Output: [1,3,6,10]\n",
    "Explanation: Running sum is obtained as follows: [1, 1+2, 1+2+3, 1+2+3+4].\n",
    "\n",
    "\n",
    "Input: nums = [1,1,1,1,1]\n",
    "Output: [1,2,3,4,5]\n",
    "Explanation: Running sum is obtained as follows: [1, 1+1, 1+1+1, 1+1+1+1, 1+1+1+1+1].\n",
    "\n",
    "\n",
    "\n",
    "\n",
    "Input: nums = [3,1,2,10,1]\n",
    "Output: [3,4,6,16,17]\n",
    "\n",
    "\n",
    "Constraints:\n",
    "\n",
    "1 <= nums.length <= 1000\n",
    "-10^6 <= nums[i] <= 10^6\n"
   ]
  },
  {
   "cell_type": "code",
   "execution_count": null,
   "id": "93d45e28",
   "metadata": {},
   "outputs": [],
   "source": [
    "class Solution:\n",
    "    def runningSum(self, nums: List[int]) -> List[int]:\n",
    "        for i in range(1,len(nums)):\n",
    "            nums[i]+=nums[i-1]\n",
    "        return nums"
   ]
  },
  {
   "cell_type": "markdown",
   "id": "19569558",
   "metadata": {},
   "source": [
    "2.Shuffle the Array\n",
    "\n",
    "\n",
    "Given the array nums consisting of 2n elements in the form [x1,x2,...,xn,y1,y2,...,yn].\n",
    "\n",
    "Return the array in the form [x1,y1,x2,y2,...,xn,yn].\n",
    "\n",
    " \n",
    "\n",
    "Example 1:\n",
    "\n",
    "Input: nums = [2,5,1,3,4,7], n = 3\n",
    "Output: [2,3,5,4,1,7] \n",
    "Explanation: Since x1=2, x2=5, x3=1, y1=3, y2=4, y3=7 then the answer is [2,3,5,4,1,7].\n",
    "Example 2:\n",
    "\n",
    "Input: nums = [1,2,3,4,4,3,2,1], n = 4\n",
    "Output: [1,4,2,3,3,2,4,1]\n",
    "Example 3:\n",
    "\n",
    "Input: nums = [1,1,2,2], n = 2\n",
    "Output: [1,2,1,2]\n",
    " \n",
    "\n",
    "Constraints:\n",
    "\n",
    "1 <= n <= 500\n",
    "nums.length == 2n\n",
    "1 <= nums[i] <= 10^3\n"
   ]
  },
  {
   "cell_type": "code",
   "execution_count": null,
   "id": "c032499f",
   "metadata": {},
   "outputs": [],
   "source": [
    "class Solution:\n",
    "    def shuffle(self, nums: List[int], n: int) -> List[int]:\n",
    "        res = []\n",
    "        for i in range(n):\n",
    "            res.append(nums[i])\n",
    "            res.append(nums[i+n])\n",
    "        return res"
   ]
  },
  {
   "cell_type": "markdown",
   "id": "2e7bc687",
   "metadata": {},
   "source": [
    "3.Kids With the Greatest Number of Candies\n",
    "Easy\n",
    "2.3K\n",
    "324\n",
    "Companies\n",
    "There are n kids with candies. You are given an integer array candies, where each candies[i] represents the number of candies the ith kid has, and an integer extraCandies, denoting the number of extra candies that you have.\n",
    "\n",
    "Return a boolean array result of length n, where result[i] is true if, after giving the ith kid all the extraCandies, they will have the greatest number of candies among all the kids, or false otherwise.\n",
    "\n",
    "Note that multiple kids can have the greatest number of candies.\n",
    "\n",
    " \n",
    "\n",
    "Example 1:\n",
    "\n",
    "Input: candies = [2,3,5,1,3], extraCandies = 3\n",
    "Output: [true,true,true,false,true] \n",
    "Explanation: If you give all extraCandies to:\n",
    "- Kid 1, they will have 2 + 3 = 5 candies, which is the greatest among the kids.\n",
    "- Kid 2, they will have 3 + 3 = 6 candies, which is the greatest among the kids.\n",
    "- Kid 3, they will have 5 + 3 = 8 candies, which is the greatest among the kids.\n",
    "- Kid 4, they will have 1 + 3 = 4 candies, which is not the greatest among the kids.\n",
    "- Kid 5, they will have 3 + 3 = 6 candies, which is the greatest among the kids.\n",
    "Example 2:\n",
    "\n",
    "Input: candies = [4,2,1,1,2], extraCandies = 1\n",
    "Output: [true,false,false,false,false] \n",
    "Explanation: There is only 1 extra candy.\n",
    "Kid 1 will always have the greatest number of candies, even if a different kid is given the extra candy.\n",
    "Example 3:\n",
    "\n",
    "Input: candies = [12,1,12], extraCandies = 10\n",
    "Output: [true,false,true]\n",
    " \n",
    "\n",
    "Constraints:\n",
    "\n",
    "n == candies.length\n",
    "2 <= n <= 100\n",
    "1 <= candies[i] <= 100\n",
    "1 <= extraCandies <= 50\n",
    "Accepted\n",
    "386.2K\n",
    "Submissions\n",
    "442.5K\n",
    "Acceptance Rate\n",
    "87.3%"
   ]
  },
  {
   "cell_type": "code",
   "execution_count": null,
   "id": "8cedadca",
   "metadata": {},
   "outputs": [],
   "source": [
    "class Solution:\n",
    "    def kidsWithCandies(self, candies: List[int], extraCandies: int) -> List[bool]:\n",
    "        resArr = []\n",
    "        maxCandies =max(candies)\n",
    "\n",
    "\n",
    "        for i in range(len(candies)):\n",
    "\n",
    "            resArr.append(candies[i] + extraCandies >= maxCandies)\n",
    "        return resArr"
   ]
  }
 ],
 "metadata": {
  "kernelspec": {
   "display_name": "Python 3 (ipykernel)",
   "language": "python",
   "name": "python3"
  },
  "language_info": {
   "codemirror_mode": {
    "name": "ipython",
    "version": 3
   },
   "file_extension": ".py",
   "mimetype": "text/x-python",
   "name": "python",
   "nbconvert_exporter": "python",
   "pygments_lexer": "ipython3",
   "version": "3.9.7"
  }
 },
 "nbformat": 4,
 "nbformat_minor": 5
}
