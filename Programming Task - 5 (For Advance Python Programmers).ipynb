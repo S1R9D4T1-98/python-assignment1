{
 "cells": [
  {
   "cell_type": "code",
   "execution_count": null,
   "id": "c5c569c8",
   "metadata": {},
   "outputs": [],
   "source": [
    "### 1. Subsets\n"
   ]
  },
  {
   "cell_type": "code",
   "execution_count": null,
   "id": "e0a7f510",
   "metadata": {},
   "outputs": [],
   "source": [
    "Given an integer array nums of unique elements, return all possible \n",
    "subsets\n",
    " (the power set).\n",
    "\n",
    "The solution set must not contain duplicate subsets. Return the solution in any order.\n",
    "\n",
    " \n",
    "\n",
    "Example 1:\n",
    "\n",
    "Input: nums = [1,2,3]\n",
    "Output: [[],[1],[2],[1,2],[3],[1,3],[2,3],[1,2,3]]\n",
    "Example 2:\n",
    "\n",
    "Input: nums = [0]\n",
    "Output: [[],[0]]\n",
    " \n",
    "\n",
    "Constraints:\n",
    "\n",
    "1 <= nums.length <= 10\n",
    "-10 <= nums[i] <= 10\n",
    "All the numbers of nums are unique."
   ]
  },
  {
   "cell_type": "code",
   "execution_count": null,
   "id": "40fbb52f",
   "metadata": {},
   "outputs": [],
   "source": [
    "## Solution:\n",
    "class Solution:\n",
    "    def subsets(self, nums: List[int]) -> List[List[int]]:\n",
    "        def backtrack(start,curr):\n",
    "            res.append(curr[:])\n",
    "            for i in range(start, len(nums)):\n",
    "                curr.append(nums[i])\n",
    "                backtrack(i +1,curr)\n",
    "                curr.pop()\n",
    "        res=[]\n",
    "        backtrack(0,[])\n",
    "        return res"
   ]
  },
  {
   "cell_type": "code",
   "execution_count": null,
   "id": "e0dce20e",
   "metadata": {},
   "outputs": [],
   "source": []
  },
  {
   "cell_type": "code",
   "execution_count": 1,
   "id": "743dfb8c",
   "metadata": {},
   "outputs": [],
   "source": [
    "### 2.Hamming Distance\n",
    "\n",
    "\n",
    "Companies\n",
    "The Hamming distance between two integers is the number of positions at which the corresponding bits are different.\n",
    "\n",
    "Given two integers x and y, return the Hamming distance between them.\n",
    "\n",
    " \n",
    "\n",
    "Example 1:\n",
    "\n",
    "Input: x = 1, y = 4\n",
    "Output: 2\n",
    "Explanation:\n",
    "1   (0 0 0 1)\n",
    "4   (0 1 0 0)\n",
    "       ↑   ↑\n",
    "The above arrows point to positions where the corresponding bits are different.\n",
    "Example 2:\n",
    "\n",
    "Input: x = 3, y = 1\n",
    "Output: 1\n",
    " \n",
    "\n",
    "Constraints:\n",
    "\n",
    "0 <= x, y <= 231 - 1"
   ]
  },
  {
   "cell_type": "code",
   "execution_count": null,
   "id": "c228f6a3",
   "metadata": {},
   "outputs": [],
   "source": [
    "### Solution:\n",
    "\n",
    "\n",
    "\n",
    "class Solution:\n",
    "    def hammingDistance(self, x: int, y: int) -> int:\n",
    "        xor_result = x^y\n",
    "        hamming_distance=0\n",
    "        while xor_result:\n",
    "            hamming_distance += xor_result & 1\n",
    "            xor_result>>=1\n",
    "        return hamming_distance"
   ]
  },
  {
   "cell_type": "code",
   "execution_count": null,
   "id": "4cc65865",
   "metadata": {},
   "outputs": [],
   "source": []
  },
  {
   "cell_type": "code",
   "execution_count": null,
   "id": "2a75a8a2",
   "metadata": {},
   "outputs": [],
   "source": [
    "### Single Number II\n",
    "\n",
    "\n",
    "Given an integer array nums where every element appears three times except for one, which appears exactly once. Find the single element and return it.\n",
    "\n",
    "You must implement a solution with a linear runtime complexity and use only constant extra space.\n",
    "\n",
    " \n",
    "\n",
    "Example 1:\n",
    "\n",
    "Input: nums = [2,2,3,2]\n",
    "Output: 3\n",
    "Example 2:\n",
    "\n",
    "Input: nums = [0,1,0,1,0,1,99]\n",
    "Output: 99\n",
    " \n",
    "\n",
    "Constraints:\n",
    "\n",
    "1 <= nums.length <= 3 * 104\n",
    "-231 <= nums[i] <= 231 - 1\n",
    "Each element in nums appears exactly three times except for one element which appears once."
   ]
  },
  {
   "cell_type": "code",
   "execution_count": null,
   "id": "a5ec1392",
   "metadata": {},
   "outputs": [],
   "source": [
    "### Solution\n",
    "\n",
    "\n",
    "class Solution:\n",
    "    def singleNumber(self, nums: List[int]) -> int:\n",
    "        counts = [0] * 32\n",
    "\n",
    "        for num in nums:\n",
    "            for i in range(32):\n",
    "                counts[i] += (num >> i) & 1\n",
    "\n",
    "        res = 0\n",
    "        for i in range(32):\n",
    "            if counts[i]%3!=0:\n",
    "                res += (1 << i)\n",
    "\n",
    "        if res >= 2**31:\n",
    "            res -= 2**32\n",
    "        return res"
   ]
  },
  {
   "cell_type": "code",
   "execution_count": null,
   "id": "bd83704e",
   "metadata": {},
   "outputs": [],
   "source": []
  },
  {
   "cell_type": "code",
   "execution_count": null,
   "id": "3c83f92a",
   "metadata": {},
   "outputs": [],
   "source": []
  }
 ],
 "metadata": {
  "kernelspec": {
   "display_name": "Python 3 (ipykernel)",
   "language": "python",
   "name": "python3"
  },
  "language_info": {
   "codemirror_mode": {
    "name": "ipython",
    "version": 3
   },
   "file_extension": ".py",
   "mimetype": "text/x-python",
   "name": "python",
   "nbconvert_exporter": "python",
   "pygments_lexer": "ipython3",
   "version": "3.9.7"
  }
 },
 "nbformat": 4,
 "nbformat_minor": 5
}
