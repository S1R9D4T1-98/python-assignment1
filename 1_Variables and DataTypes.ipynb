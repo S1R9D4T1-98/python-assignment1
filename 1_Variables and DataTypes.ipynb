{
 "cells": [
  {
   "cell_type": "markdown",
   "metadata": {},
   "source": [
    "# Assignment Instructions\n",
    "\n",
    "`Hello Innominion,`\n",
    "\n",
    "- **Try to attempt all the questions in every possible way.**\n",
    "- **Some other topics are required to solve some questions. don't panic.**\n",
    "- **Those questions can be answered after the topics are taught.**\n",
    "\n",
    "\n",
    "- `Join Mentoring Session for the Support/Doubts Resolving with Our Technical Mentors (2.00 PM - 6.00 PM  Mon-Sat)` \n",
    "\n",
    "Happy Learning !!!"
   ]
  },
  {
   "cell_type": "markdown",
   "metadata": {},
   "source": [
    "## Basics of Python"
   ]
  },
  {
   "cell_type": "markdown",
   "metadata": {},
   "source": [
    "> `Question:` Print your name"
   ]
  },
  {
   "cell_type": "code",
   "execution_count": null,
   "metadata": {},
   "outputs": [],
   "source": [
    "name=input(\"my name is \")"
   ]
  },
  {
   "cell_type": "code",
   "execution_count": 1,
   "metadata": {},
   "outputs": [
    {
     "name": "stdout",
     "output_type": "stream",
     "text": [
      "siri\n"
     ]
    }
   ],
   "source": [
    "S1 = \"siri\"\n",
    "print(S1)"
   ]
  },
  {
   "cell_type": "markdown",
   "metadata": {},
   "source": [
    "> `Question:` What is a variable? Write a Few words about Variables. Create a Variable with an Example. "
   ]
  },
  {
   "cell_type": "markdown",
   "metadata": {},
   "source": [
    "## Variable:  Variable is nothing but which is a container to store the data.\n",
    "## Few words about variable:\n",
    "## 1.it starts with a special character'_'\n",
    "## 2.we can use and combined  alphnumerics to create a variable.\n",
    "## 3.variable is not starts with a number.\n",
    "## 4.variable is not starts with special symbol.\n",
    "## 5.we can use case sensitive to give a variable name satrting ,middle and ending  of the words."
   ]
  },
  {
   "cell_type": "code",
   "execution_count": null,
   "metadata": {},
   "outputs": [],
   "source": [
    "# variable code examples:\n",
    "# here x is the variable name as an identifier and store the data.\n",
    "x = \"dhoni luck number is 7\"\n",
    "x"
   ]
  },
  {
   "cell_type": "markdown",
   "metadata": {},
   "source": [
    ">`Question:` Assume that we execute the following assignment statements:\n",
    "width = 17\n",
    "height = 12.0\n",
    "delimiter = '.'\n",
    "For each of the following expressions, write the value of the expression and the type (of the value of\n",
    "the expression).\n",
    "1. width/2\n",
    "2. width/2.0\n",
    "3. height/3\n",
    "4. 1 + 2 * 5\n",
    "5. delimiter * 5"
   ]
  },
  {
   "cell_type": "code",
   "execution_count": null,
   "metadata": {},
   "outputs": [],
   "source": [
    "# width=17\n",
    "# height=12.0\n",
    "# delimeter='.'\n",
    "1.17/2=8.5\n",
    "2.17/2.0=8.5\n",
    "3.12.0/3=4.0\n",
    "4.1+2*5=11\n",
    "5. ....."
   ]
  },
  {
   "cell_type": "raw",
   "metadata": {},
   "source": [
    "# Sample Outputs\n",
    "1. width/2 = 8.5\n",
    "2. width/2.0 = 8.5\n",
    "3. height/3 = 4.0\n",
    "4. 11\n",
    "5. ....."
   ]
  },
  {
   "cell_type": "markdown",
   "metadata": {},
   "source": [
    "> `Question:` Add two number by taking variable names as first and seccond"
   ]
  },
  {
   "cell_type": "code",
   "execution_count": 2,
   "metadata": {},
   "outputs": [
    {
     "data": {
      "text/plain": [
       "123"
      ]
     },
     "execution_count": 2,
     "metadata": {},
     "output_type": "execute_result"
    }
   ],
   "source": [
    "# variables are siri1,siri2\n",
    "siri1=56\n",
    "siri2=67\n",
    "siri1+siri2"
   ]
  },
  {
   "cell_type": "code",
   "execution_count": 3,
   "metadata": {},
   "outputs": [
    {
     "name": "stdout",
     "output_type": "stream",
     "text": [
      "3000\n"
     ]
    }
   ],
   "source": [
    "first_number=1000\n",
    "second_number=2000\n",
    "print(first_number+second_number)"
   ]
  },
  {
   "cell_type": "markdown",
   "metadata": {},
   "source": [
    "> `Question:` Add your first name and second name"
   ]
  },
  {
   "cell_type": "code",
   "execution_count": 4,
   "metadata": {},
   "outputs": [
    {
     "name": "stdout",
     "output_type": "stream",
     "text": [
      "My first name is : \"Lakshmi\"\n",
      "My second name is : \"siri\"\n",
      "My full name is : \"lakshmi siri\"\n"
     ]
    }
   ],
   "source": [
    "Var1=input(\"My first name is : \")\n",
    "Var2=input(\"My second name is : \")\n",
    "Var3=input(\"My full name is : \")"
   ]
  },
  {
   "cell_type": "code",
   "execution_count": 5,
   "metadata": {},
   "outputs": [
    {
     "name": "stdout",
     "output_type": "stream",
     "text": [
      "My first name is  : kavya\n",
      "My second name is : sri\n",
      "My full name is : kavya sri\n"
     ]
    }
   ],
   "source": [
    "x1=input(\"My first name is  : \")\n",
    "x2=input(\"My second name is : \")\n",
    "x3=input(\"My full name is : \")"
   ]
  },
  {
   "cell_type": "code",
   "execution_count": 6,
   "metadata": {},
   "outputs": [
    {
     "name": "stdout",
     "output_type": "stream",
     "text": [
      "My first name is : saranya\n",
      "My second name is : sri\n",
      "My full name is : saranya sri\n"
     ]
    }
   ],
   "source": [
    "y1=input(\"My first name is : \")\n",
    "y2=input(\"My second name is : \")\n",
    "y3=input(\"My full name is : \")"
   ]
  },
  {
   "cell_type": "markdown",
   "metadata": {},
   "source": [
    "> `Question:` print the datatypes of the following\n",
    "- 10,'10',True,10.5"
   ]
  },
  {
   "cell_type": "code",
   "execution_count": 7,
   "metadata": {},
   "outputs": [
    {
     "data": {
      "text/plain": [
       "int"
      ]
     },
     "execution_count": 7,
     "metadata": {},
     "output_type": "execute_result"
    }
   ],
   "source": [
    "x = 10\n",
    "type(x)"
   ]
  },
  {
   "cell_type": "code",
   "execution_count": 8,
   "metadata": {},
   "outputs": [
    {
     "data": {
      "text/plain": [
       "str"
      ]
     },
     "execution_count": 8,
     "metadata": {},
     "output_type": "execute_result"
    }
   ],
   "source": [
    "x ='10'\n",
    "type(x)"
   ]
  },
  {
   "cell_type": "code",
   "execution_count": 9,
   "metadata": {},
   "outputs": [
    {
     "data": {
      "text/plain": [
       "bool"
      ]
     },
     "execution_count": 9,
     "metadata": {},
     "output_type": "execute_result"
    }
   ],
   "source": [
    "x = True\n",
    "type(x)"
   ]
  },
  {
   "cell_type": "code",
   "execution_count": 10,
   "metadata": {},
   "outputs": [
    {
     "data": {
      "text/plain": [
       "float"
      ]
     },
     "execution_count": 10,
     "metadata": {},
     "output_type": "execute_result"
    }
   ],
   "source": [
    "x = 10.5\n",
    "type(x)"
   ]
  },
  {
   "cell_type": "markdown",
   "metadata": {},
   "source": [
    " `Question:` \n",
    "> - num_int = 123\n",
    "> - num_str = \"456\"\n",
    "> - Add num_int and num_str\n",
    "- `hint: first need to convert num_str into integer`"
   ]
  },
  {
   "cell_type": "code",
   "execution_count": 19,
   "metadata": {},
   "outputs": [
    {
     "data": {
      "text/plain": [
       "456"
      ]
     },
     "execution_count": 19,
     "metadata": {},
     "output_type": "execute_result"
    }
   ],
   "source": [
    "num_int=123\n",
    "num_str=int(\"456\")\n",
    "num_str"
   ]
  },
  {
   "cell_type": "code",
   "execution_count": null,
   "metadata": {},
   "outputs": [],
   "source": [
    "# CODE HERE\n",
    "k=num_int+num_str"
   ]
  },
  {
   "cell_type": "code",
   "execution_count": 20,
   "metadata": {},
   "outputs": [
    {
     "data": {
      "text/plain": [
       "579"
      ]
     },
     "execution_count": 20,
     "metadata": {},
     "output_type": "execute_result"
    }
   ],
   "source": [
    "k"
   ]
  },
  {
   "cell_type": "code",
   "execution_count": null,
   "metadata": {},
   "outputs": [],
   "source": []
  },
  {
   "cell_type": "markdown",
   "metadata": {},
   "source": [
    "### Advanced Questions"
   ]
  },
  {
   "cell_type": "markdown",
   "metadata": {},
   "source": [
    "> `Question:` The volume of a sphere with radius r is  4/3πr3  . What is the volume of a sphere with radius 5?"
   ]
  },
  {
   "cell_type": "code",
   "execution_count": 2,
   "metadata": {},
   "outputs": [
    {
     "name": "stdout",
     "output_type": "stream",
     "text": [
      "523.8095238095239\n"
     ]
    }
   ],
   "source": [
    "# CODE HERE\n",
    "vol_radius=4/3*22/7*5**3\n",
    "print(vol_radius)"
   ]
  },
  {
   "cell_type": "markdown",
   "metadata": {},
   "source": [
    "> `Question:` Suppose the cover price of a book is Rs.24.95, but bookstores get a 40% discount. Shipping costs Rs.3 for the first copy and 75 paise for each additional copy. What is the total wholesale cost for 60 copies?"
   ]
  },
  {
   "cell_type": "code",
   "execution_count": null,
   "metadata": {},
   "outputs": [],
   "source": [
    "# CODE HERE"
   ]
  },
  {
   "cell_type": "code",
   "execution_count": 13,
   "metadata": {},
   "outputs": [
    {
     "name": "stdout",
     "output_type": "stream",
     "text": [
      "1515.9\n"
     ]
    }
   ],
   "source": [
    "book_price=24.95\n",
    "dis_count=40\n",
    "#shipping costs=(1*3)+(59*0.75)\n",
    "shipping_costs=47.25\n",
    "wholesale_cost=book_price*60+shipping_costs*40/100\n",
    "print(wholesale_cost)"
   ]
  },
  {
   "cell_type": "code",
   "execution_count": null,
   "metadata": {},
   "outputs": [],
   "source": []
  },
  {
   "cell_type": "markdown",
   "metadata": {},
   "source": [
    "# [Innomatics Research Labs](https:/innomatics.in/)\n",
    "[www.innomatics.in](https:/innomatics.in/)"
   ]
  }
 ],
 "metadata": {
  "kernelspec": {
   "display_name": "Python 3 (ipykernel)",
   "language": "python",
   "name": "python3"
  },
  "language_info": {
   "codemirror_mode": {
    "name": "ipython",
    "version": 3
   },
   "file_extension": ".py",
   "mimetype": "text/x-python",
   "name": "python",
   "nbconvert_exporter": "python",
   "pygments_lexer": "ipython3",
   "version": "3.9.7"
  }
 },
 "nbformat": 4,
 "nbformat_minor": 2
}
